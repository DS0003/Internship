{
 "cells": [
  {
   "cell_type": "markdown",
   "id": "8e81efef",
   "metadata": {},
   "source": [
    "## WEB SCRAPING – ASSIGNMENT 2 (Selenium web scraping )"
   ]
  },
  {
   "cell_type": "code",
   "execution_count": 124,
   "id": "af95e6f6",
   "metadata": {},
   "outputs": [],
   "source": [
    "import pandas as pd\n",
    "import selenium\n",
    "from selenium import webdriver\n",
    "from selenium.webdriver.common.keys import Keys\n",
    "import csv\n",
    "import warnings\n",
    "warnings.filterwarnings(\"ignore\")"
   ]
  },
  {
   "cell_type": "code",
   "execution_count": 262,
   "id": "2e6c1215",
   "metadata": {},
   "outputs": [],
   "source": [
    "driver = webdriver.Chrome(\"chromedriver.exe\")"
   ]
  },
  {
   "cell_type": "markdown",
   "id": "975aab9e",
   "metadata": {},
   "source": [
    "## Q1: Write a python program to scrape data for “Data Analyst” Job position in “Bangalore” location. You have to scrape the job-title, job-location, company_name, experience_required. You have to scrape first 10 jobs data.\n",
    "This task will be done in following steps:\n",
    "1. First get the webpage https://www.naukri.com/\n",
    "2. Enter “Data Analyst” in “Skill, Designations, Companies” field and enter “Bangalore” in “enter the location” field.\n",
    "3. Then click the search button.\n",
    "4. Then scrape the data for the first 10 jobs results you get.\n",
    "5. Finally create a dataframe of the scraped data."
   ]
  },
  {
   "cell_type": "code",
   "execution_count": 125,
   "id": "433491fd",
   "metadata": {},
   "outputs": [],
   "source": [
    "# specifies the path to the chromedriver.exe:\n",
    "driver = webdriver.Chrome(r\"C:\\driver\\chromedriver.exe\")"
   ]
  },
  {
   "cell_type": "code",
   "execution_count": 126,
   "id": "abd9839d",
   "metadata": {},
   "outputs": [],
   "source": [
    "#passing url:\n",
    "url='https://www.naukri.com/'\n",
    "driver.get(url)"
   ]
  },
  {
   "cell_type": "code",
   "execution_count": 127,
   "id": "d4acf537",
   "metadata": {},
   "outputs": [
    {
     "data": {
      "text/plain": [
       "<selenium.webdriver.remote.webelement.WebElement (session=\"7dcf27c124fed72fff1f17b16f090a72\", element=\"bfed2ecc-b361-43d3-9f29-6cda6cf9daf1\")>"
      ]
     },
     "execution_count": 127,
     "metadata": {},
     "output_type": "execute_result"
    }
   ],
   "source": [
    "#search job using id:\n",
    "search_job=driver.find_element_by_class_name('suggestor-input')\n",
    "search_job"
   ]
  },
  {
   "cell_type": "code",
   "execution_count": 128,
   "id": "a2987205",
   "metadata": {},
   "outputs": [],
   "source": [
    "#search job:\n",
    "search_job.send_keys('Data analyst')"
   ]
  },
  {
   "cell_type": "code",
   "execution_count": 130,
   "id": "a0824093",
   "metadata": {},
   "outputs": [
    {
     "data": {
      "text/plain": [
       "<selenium.webdriver.remote.webelement.WebElement (session=\"7dcf27c124fed72fff1f17b16f090a72\", element=\"19541c74-2d7b-471f-ac7a-8de49532bbfb\")>"
      ]
     },
     "execution_count": 130,
     "metadata": {},
     "output_type": "execute_result"
    }
   ],
   "source": [
    "#search location using absolute xpath:\n",
    "search_loc=driver.find_element_by_xpath('/html/body/div/div[2]/div[3]/div/div/div[3]/div/div/div/input')\n",
    "search_loc"
   ]
  },
  {
   "cell_type": "code",
   "execution_count": 132,
   "id": "234f43a4",
   "metadata": {},
   "outputs": [],
   "source": [
    "#providing location for job:\n",
    "search_loc.send_keys('Banglore')"
   ]
  },
  {
   "cell_type": "code",
   "execution_count": 134,
   "id": "a6a4b12c",
   "metadata": {},
   "outputs": [],
   "source": [
    "search_bar=driver.find_element_by_xpath(\"/html/body/div/div[2]/div[3]/div/div/div[6]\")\n",
    "search_bar.click()"
   ]
  },
  {
   "cell_type": "code",
   "execution_count": 136,
   "id": "c3cbb1b9",
   "metadata": {},
   "outputs": [
    {
     "data": {
      "text/plain": [
       "['Hiring Data Analyst For Global Logic-Immediate Joiner',\n",
       " 'Senior Data Analyst',\n",
       " 'Junior Data Analyst/ Scientist- Fresher Position',\n",
       " 'Assistant Clinical Data Analyst',\n",
       " 'Lead - Data Analyst / Scientist',\n",
       " 'Data Analyst / Sr. Data Analyst',\n",
       " 'Senior Data Analyst - CRM',\n",
       " 'Senior Data Analyst - Supporting Audits',\n",
       " 'Research - Data Analyst / Associate',\n",
       " 'Data Analyst 1']"
      ]
     },
     "execution_count": 136,
     "metadata": {},
     "output_type": "execute_result"
    }
   ],
   "source": [
    "#creating a dictionary for storing the information after scraping\n",
    "#for each job we will scrape the job-title, job-location, company_name, experience_required.\n",
    "\n",
    "# for job title:\n",
    "title = driver.find_elements_by_xpath(\"//a[@class='title fw500 ellipsis']\")\n",
    "job_title = []\n",
    "for i in title:\n",
    "    job_title.append(i.text)\n",
    "    \n",
    "job_title[:10]"
   ]
  },
  {
   "cell_type": "code",
   "execution_count": 137,
   "id": "f1d17f3e",
   "metadata": {},
   "outputs": [
    {
     "data": {
      "text/plain": [
       "['Noida, Nagpur, Pune, Gurgaon/Gurugram, Bangalore/Bengaluru\\n(WFH during Covid)',\n",
       " 'Bengaluru/Bangalore',\n",
       " 'Kolkata, Gurgaon/Gurugram, Bangalore/Bengaluru\\n(WFH during Covid)',\n",
       " 'Bangalore/Bengaluru',\n",
       " 'Bangalore/Bengaluru',\n",
       " 'Bangalore/Bengaluru',\n",
       " 'Bangalore/Bengaluru',\n",
       " 'Bangalore/Bengaluru',\n",
       " 'Mumbai, Delhi / NCR, Bangalore/Bengaluru',\n",
       " 'Bangalore/Bengaluru']"
      ]
     },
     "execution_count": 137,
     "metadata": {},
     "output_type": "execute_result"
    }
   ],
   "source": [
    "#for job location:\n",
    "loc = driver.find_elements_by_xpath(\"//li[@class='fleft grey-text br2 placeHolderLi location']\")\n",
    "job_loc = []\n",
    "\n",
    "for i in loc:\n",
    "    job_loc.append(i.text)\n",
    "    \n",
    "job_loc[:10]"
   ]
  },
  {
   "cell_type": "code",
   "execution_count": 138,
   "id": "469a81cc",
   "metadata": {},
   "outputs": [
    {
     "data": {
      "text/plain": [
       "['GlobalLogic',\n",
       " 'Flipkart',\n",
       " 'Sejal Consulting Hub',\n",
       " 'Labcorp Drug Development India Private Limited',\n",
       " 'Axim Technologies',\n",
       " 'Vmware',\n",
       " 'Gojek Tech',\n",
       " 'Visa',\n",
       " 'AXL HR Tech',\n",
       " 'Optum Global Solutions (India) Private Limited']"
      ]
     },
     "execution_count": 138,
     "metadata": {},
     "output_type": "execute_result"
    }
   ],
   "source": [
    "# for job company name:\n",
    "comp = driver.find_elements_by_xpath(\"//a[@class='subTitle ellipsis fleft']\")\n",
    "company=[]\n",
    "\n",
    "for i in comp:\n",
    "    company.append(i.text)\n",
    "    \n",
    "company[:10]"
   ]
  },
  {
   "cell_type": "code",
   "execution_count": 135,
   "id": "b9159bfb",
   "metadata": {},
   "outputs": [
    {
     "data": {
      "text/plain": [
       "['4-8 Yrs',\n",
       " '4-6 Yrs',\n",
       " '0-3 Yrs',\n",
       " '0-2 Yrs',\n",
       " '12-14 Yrs',\n",
       " '3-6 Yrs',\n",
       " '2-5 Yrs',\n",
       " '5-8 Yrs',\n",
       " '0-2 Yrs',\n",
       " '4-9 Yrs']"
      ]
     },
     "execution_count": 135,
     "metadata": {},
     "output_type": "execute_result"
    }
   ],
   "source": [
    "# for experience required:\n",
    "exp = driver.find_elements_by_xpath(\"//li[@class='fleft grey-text br2 placeHolderLi experience']\")\n",
    "experience=[]\n",
    "\n",
    "for i in exp:\n",
    "    experience.append(i.text)\n",
    "    \n",
    "experience[:10]"
   ]
  },
  {
   "cell_type": "code",
   "execution_count": 139,
   "id": "767aa180",
   "metadata": {},
   "outputs": [
    {
     "data": {
      "text/html": [
       "<div>\n",
       "<style scoped>\n",
       "    .dataframe tbody tr th:only-of-type {\n",
       "        vertical-align: middle;\n",
       "    }\n",
       "\n",
       "    .dataframe tbody tr th {\n",
       "        vertical-align: top;\n",
       "    }\n",
       "\n",
       "    .dataframe thead th {\n",
       "        text-align: right;\n",
       "    }\n",
       "</style>\n",
       "<table border=\"1\" class=\"dataframe\">\n",
       "  <thead>\n",
       "    <tr style=\"text-align: right;\">\n",
       "      <th></th>\n",
       "      <th>Job Title</th>\n",
       "      <th>Job Location</th>\n",
       "      <th>Company name</th>\n",
       "      <th>Experience required</th>\n",
       "    </tr>\n",
       "  </thead>\n",
       "  <tbody>\n",
       "    <tr>\n",
       "      <th>0</th>\n",
       "      <td>Hiring Data Analyst For Global Logic-Immediate...</td>\n",
       "      <td>Noida, Nagpur, Pune, Gurgaon/Gurugram, Bangalo...</td>\n",
       "      <td>GlobalLogic</td>\n",
       "      <td>4-8 Yrs</td>\n",
       "    </tr>\n",
       "    <tr>\n",
       "      <th>1</th>\n",
       "      <td>Senior Data Analyst</td>\n",
       "      <td>Bengaluru/Bangalore</td>\n",
       "      <td>Flipkart</td>\n",
       "      <td>4-6 Yrs</td>\n",
       "    </tr>\n",
       "    <tr>\n",
       "      <th>2</th>\n",
       "      <td>Junior Data Analyst/ Scientist- Fresher Position</td>\n",
       "      <td>Kolkata, Gurgaon/Gurugram, Bangalore/Bengaluru...</td>\n",
       "      <td>Sejal Consulting Hub</td>\n",
       "      <td>0-3 Yrs</td>\n",
       "    </tr>\n",
       "    <tr>\n",
       "      <th>3</th>\n",
       "      <td>Assistant Clinical Data Analyst</td>\n",
       "      <td>Bangalore/Bengaluru</td>\n",
       "      <td>Labcorp Drug Development India Private Limited</td>\n",
       "      <td>0-2 Yrs</td>\n",
       "    </tr>\n",
       "    <tr>\n",
       "      <th>4</th>\n",
       "      <td>Lead - Data Analyst / Scientist</td>\n",
       "      <td>Bangalore/Bengaluru</td>\n",
       "      <td>Axim Technologies</td>\n",
       "      <td>12-14 Yrs</td>\n",
       "    </tr>\n",
       "    <tr>\n",
       "      <th>5</th>\n",
       "      <td>Data Analyst / Sr. Data Analyst</td>\n",
       "      <td>Bangalore/Bengaluru</td>\n",
       "      <td>Vmware</td>\n",
       "      <td>3-6 Yrs</td>\n",
       "    </tr>\n",
       "    <tr>\n",
       "      <th>6</th>\n",
       "      <td>Senior Data Analyst - CRM</td>\n",
       "      <td>Bangalore/Bengaluru</td>\n",
       "      <td>Gojek Tech</td>\n",
       "      <td>2-5 Yrs</td>\n",
       "    </tr>\n",
       "    <tr>\n",
       "      <th>7</th>\n",
       "      <td>Senior Data Analyst - Supporting Audits</td>\n",
       "      <td>Bangalore/Bengaluru</td>\n",
       "      <td>Visa</td>\n",
       "      <td>5-8 Yrs</td>\n",
       "    </tr>\n",
       "    <tr>\n",
       "      <th>8</th>\n",
       "      <td>Research - Data Analyst / Associate</td>\n",
       "      <td>Mumbai, Delhi / NCR, Bangalore/Bengaluru</td>\n",
       "      <td>AXL HR Tech</td>\n",
       "      <td>0-2 Yrs</td>\n",
       "    </tr>\n",
       "    <tr>\n",
       "      <th>9</th>\n",
       "      <td>Data Analyst 1</td>\n",
       "      <td>Bangalore/Bengaluru</td>\n",
       "      <td>Optum Global Solutions (India) Private Limited</td>\n",
       "      <td>4-9 Yrs</td>\n",
       "    </tr>\n",
       "  </tbody>\n",
       "</table>\n",
       "</div>"
      ],
      "text/plain": [
       "                                           Job Title  \\\n",
       "0  Hiring Data Analyst For Global Logic-Immediate...   \n",
       "1                                Senior Data Analyst   \n",
       "2   Junior Data Analyst/ Scientist- Fresher Position   \n",
       "3                    Assistant Clinical Data Analyst   \n",
       "4                    Lead - Data Analyst / Scientist   \n",
       "5                    Data Analyst / Sr. Data Analyst   \n",
       "6                          Senior Data Analyst - CRM   \n",
       "7            Senior Data Analyst - Supporting Audits   \n",
       "8                Research - Data Analyst / Associate   \n",
       "9                                     Data Analyst 1   \n",
       "\n",
       "                                        Job Location  \\\n",
       "0  Noida, Nagpur, Pune, Gurgaon/Gurugram, Bangalo...   \n",
       "1                                Bengaluru/Bangalore   \n",
       "2  Kolkata, Gurgaon/Gurugram, Bangalore/Bengaluru...   \n",
       "3                                Bangalore/Bengaluru   \n",
       "4                                Bangalore/Bengaluru   \n",
       "5                                Bangalore/Bengaluru   \n",
       "6                                Bangalore/Bengaluru   \n",
       "7                                Bangalore/Bengaluru   \n",
       "8           Mumbai, Delhi / NCR, Bangalore/Bengaluru   \n",
       "9                                Bangalore/Bengaluru   \n",
       "\n",
       "                                     Company name Experience required  \n",
       "0                                     GlobalLogic             4-8 Yrs  \n",
       "1                                        Flipkart             4-6 Yrs  \n",
       "2                            Sejal Consulting Hub             0-3 Yrs  \n",
       "3  Labcorp Drug Development India Private Limited             0-2 Yrs  \n",
       "4                               Axim Technologies           12-14 Yrs  \n",
       "5                                          Vmware             3-6 Yrs  \n",
       "6                                      Gojek Tech             2-5 Yrs  \n",
       "7                                            Visa             5-8 Yrs  \n",
       "8                                     AXL HR Tech             0-2 Yrs  \n",
       "9  Optum Global Solutions (India) Private Limited             4-9 Yrs  "
      ]
     },
     "execution_count": 139,
     "metadata": {},
     "output_type": "execute_result"
    }
   ],
   "source": [
    "# Data Frame of the job-title, job-location, company_name, experience_required: \n",
    "\n",
    "job_data_analyst=pd.DataFrame({'Job Title':job_title,\"Job Location\":job_loc,\"Company name\":company,\"Experience required\":experience})\n",
    "\n",
    "job_data_analyst.head(10)"
   ]
  },
  {
   "cell_type": "code",
   "execution_count": null,
   "id": "b88d386e",
   "metadata": {},
   "outputs": [],
   "source": []
  },
  {
   "cell_type": "markdown",
   "id": "08c0568d",
   "metadata": {},
   "source": [
    "## Q2: Write a python program to scrape data for “Data Scientist” Job position in “Bangalore” location. You have to scrape the job-title, job-location, company_name. You have to scrape first 10 jobs data.\n",
    "This task will be done in following steps:\n",
    "1. First get the webpage https://www.naukri.com/\n",
    "2. Enter “Data Scientist” in “Skill, Designations, Companies” field and enter “Bangalore” in “enter the location” field.\n",
    "3. Then click the search button.\n",
    "4. Then scrape the data for the first 10 jobs results you get.\n",
    "5. Finally create a dataframe of the scraped data."
   ]
  },
  {
   "cell_type": "code",
   "execution_count": 140,
   "id": "34326bf1",
   "metadata": {},
   "outputs": [],
   "source": [
    "# connect to web driver path:\n",
    "driver=webdriver.Chrome('chromedriver.exe')"
   ]
  },
  {
   "cell_type": "code",
   "execution_count": 141,
   "id": "fd34b553",
   "metadata": {},
   "outputs": [],
   "source": [
    "#passing url:\n",
    "url='https://www.naukri.com/'\n",
    "driver.get(url)"
   ]
  },
  {
   "cell_type": "code",
   "execution_count": 143,
   "id": "7201558e",
   "metadata": {},
   "outputs": [
    {
     "data": {
      "text/plain": [
       "<selenium.webdriver.remote.webelement.WebElement (session=\"4e240230ede3b28dd4244bfe39759c39\", element=\"7e0d6973-6f06-49fc-8bbd-8313b13e759f\")>"
      ]
     },
     "execution_count": 143,
     "metadata": {},
     "output_type": "execute_result"
    }
   ],
   "source": [
    "#search job using id:\n",
    "search_job=driver.find_element_by_class_name('suggestor-input')\n",
    "search_job"
   ]
  },
  {
   "cell_type": "code",
   "execution_count": 144,
   "id": "acb31a27",
   "metadata": {},
   "outputs": [],
   "source": [
    "#search job:\n",
    "search_job.send_keys('Data scientist')"
   ]
  },
  {
   "cell_type": "code",
   "execution_count": 145,
   "id": "821991a5",
   "metadata": {},
   "outputs": [
    {
     "data": {
      "text/plain": [
       "<selenium.webdriver.remote.webelement.WebElement (session=\"4e240230ede3b28dd4244bfe39759c39\", element=\"fecaed36-397a-4836-84ea-d58b4e1e3989\")>"
      ]
     },
     "execution_count": 145,
     "metadata": {},
     "output_type": "execute_result"
    }
   ],
   "source": [
    "#search location using absolute xpath:\n",
    "search_loc=driver.find_element_by_xpath('/html/body/div/div[2]/div[3]/div/div/div[3]/div/div/div/input')\n",
    "search_loc"
   ]
  },
  {
   "cell_type": "code",
   "execution_count": 147,
   "id": "bc41de12",
   "metadata": {},
   "outputs": [],
   "source": [
    "#providing location for job:\n",
    "search_loc.send_keys('Banglore')"
   ]
  },
  {
   "cell_type": "code",
   "execution_count": 149,
   "id": "5d6f2150",
   "metadata": {},
   "outputs": [],
   "source": [
    "#search bar:\n",
    "search_bar=driver.find_element_by_xpath(\"/html/body/div/div[2]/div[3]/div/div/div[6]\")\n",
    "search_bar.click()"
   ]
  },
  {
   "cell_type": "code",
   "execution_count": 150,
   "id": "c626319c",
   "metadata": {},
   "outputs": [],
   "source": [
    "#creating a dictionary for storing the information after scraping\n",
    "#for each job we will scrape the job-title, job-location, company_name, experience_required.\n",
    "\n",
    "# for job title:\n",
    "title = driver.find_elements_by_xpath(\"//a[@class='title fw500 ellipsis']\")\n",
    "job_title = []\n",
    "for i in title:\n",
    "    job_title.append(i.text)\n",
    "\n",
    "    \n",
    "# for job location\n",
    "loc = driver.find_elements_by_xpath(\"//li[@class='fleft grey-text br2 placeHolderLi location']\")\n",
    "job_loc = []\n",
    "\n",
    "for i in loc:\n",
    "    job_loc.append(i.text)\n",
    "    \n",
    "    \n",
    "# for job company name\n",
    "comp = driver.find_elements_by_xpath(\"//a[@class='subTitle ellipsis fleft']\")\n",
    "company=[]\n",
    "\n",
    "for i in comp:\n",
    "    company.append(i.text)\n",
    "    \n",
    "    \n",
    "# for experience required\n",
    "exp = driver.find_elements_by_xpath(\"//li[@class='fleft grey-text br2 placeHolderLi experience']\")\n",
    "experience=[]\n",
    "\n",
    "for i in exp:\n",
    "    experience.append(i.text)"
   ]
  },
  {
   "cell_type": "code",
   "execution_count": 151,
   "id": "82de923d",
   "metadata": {},
   "outputs": [
    {
     "data": {
      "text/html": [
       "<div>\n",
       "<style scoped>\n",
       "    .dataframe tbody tr th:only-of-type {\n",
       "        vertical-align: middle;\n",
       "    }\n",
       "\n",
       "    .dataframe tbody tr th {\n",
       "        vertical-align: top;\n",
       "    }\n",
       "\n",
       "    .dataframe thead th {\n",
       "        text-align: right;\n",
       "    }\n",
       "</style>\n",
       "<table border=\"1\" class=\"dataframe\">\n",
       "  <thead>\n",
       "    <tr style=\"text-align: right;\">\n",
       "      <th></th>\n",
       "      <th>Job Title</th>\n",
       "      <th>Job Location</th>\n",
       "      <th>Company name</th>\n",
       "      <th>Experience required</th>\n",
       "    </tr>\n",
       "  </thead>\n",
       "  <tbody>\n",
       "    <tr>\n",
       "      <th>0</th>\n",
       "      <td>Senior Data Scientist /Senior Software Engineer</td>\n",
       "      <td>Kochi/Cochin, Hyderabad/Secunderabad, Bangalor...</td>\n",
       "      <td>Terawe Technologies Pvt. Ltd.</td>\n",
       "      <td>6-10 Yrs</td>\n",
       "    </tr>\n",
       "    <tr>\n",
       "      <th>1</th>\n",
       "      <td>Sr . Data Scientist</td>\n",
       "      <td>Bangalore/Bengaluru</td>\n",
       "      <td>Harman Connected Services Corporation India Pvt.</td>\n",
       "      <td>8-10 Yrs</td>\n",
       "    </tr>\n",
       "    <tr>\n",
       "      <th>2</th>\n",
       "      <td>Sr Data Scientist</td>\n",
       "      <td>Bangalore/Bengaluru</td>\n",
       "      <td>Siemens</td>\n",
       "      <td>0-6 Yrs</td>\n",
       "    </tr>\n",
       "    <tr>\n",
       "      <th>3</th>\n",
       "      <td>Senior Data Scientist</td>\n",
       "      <td>Bangalore/Bengaluru</td>\n",
       "      <td>Dell</td>\n",
       "      <td>5-8 Yrs</td>\n",
       "    </tr>\n",
       "    <tr>\n",
       "      <th>4</th>\n",
       "      <td>Senior Data Scientist</td>\n",
       "      <td>Bangalore/Bengaluru</td>\n",
       "      <td>Dell</td>\n",
       "      <td>8-12 Yrs</td>\n",
       "    </tr>\n",
       "    <tr>\n",
       "      <th>5</th>\n",
       "      <td>Senior/Lead Data Scientist - (Revenue Management)</td>\n",
       "      <td>Bangalore/Bengaluru</td>\n",
       "      <td>o9 Solutions Management India Private Limited</td>\n",
       "      <td>4-9 Yrs</td>\n",
       "    </tr>\n",
       "    <tr>\n",
       "      <th>6</th>\n",
       "      <td>Senior/Lead - Data Scientist (Supply Chain)</td>\n",
       "      <td>Bangalore/Bengaluru</td>\n",
       "      <td>o9 Solutions Management India Private Limited</td>\n",
       "      <td>4-9 Yrs</td>\n",
       "    </tr>\n",
       "    <tr>\n",
       "      <th>7</th>\n",
       "      <td>Associate Data Scientist</td>\n",
       "      <td>Chennai, Bangalore/Bengaluru</td>\n",
       "      <td>Shell</td>\n",
       "      <td>2-7 Yrs</td>\n",
       "    </tr>\n",
       "    <tr>\n",
       "      <th>8</th>\n",
       "      <td>Lead/Senior Data Scientist (NLP)</td>\n",
       "      <td>Bangalore/Bengaluru\\n(WFH during Covid)</td>\n",
       "      <td>Samya.AI A FRACTAL Entity</td>\n",
       "      <td>3-8 Yrs</td>\n",
       "    </tr>\n",
       "    <tr>\n",
       "      <th>9</th>\n",
       "      <td>Data Scientist</td>\n",
       "      <td>Bangalore/Bengaluru</td>\n",
       "      <td>Rakuten, Inc.</td>\n",
       "      <td>3-7 Yrs</td>\n",
       "    </tr>\n",
       "  </tbody>\n",
       "</table>\n",
       "</div>"
      ],
      "text/plain": [
       "                                           Job Title  \\\n",
       "0    Senior Data Scientist /Senior Software Engineer   \n",
       "1                                Sr . Data Scientist   \n",
       "2                                  Sr Data Scientist   \n",
       "3                              Senior Data Scientist   \n",
       "4                              Senior Data Scientist   \n",
       "5  Senior/Lead Data Scientist - (Revenue Management)   \n",
       "6        Senior/Lead - Data Scientist (Supply Chain)   \n",
       "7                           Associate Data Scientist   \n",
       "8                   Lead/Senior Data Scientist (NLP)   \n",
       "9                                     Data Scientist   \n",
       "\n",
       "                                        Job Location  \\\n",
       "0  Kochi/Cochin, Hyderabad/Secunderabad, Bangalor...   \n",
       "1                                Bangalore/Bengaluru   \n",
       "2                                Bangalore/Bengaluru   \n",
       "3                                Bangalore/Bengaluru   \n",
       "4                                Bangalore/Bengaluru   \n",
       "5                                Bangalore/Bengaluru   \n",
       "6                                Bangalore/Bengaluru   \n",
       "7                       Chennai, Bangalore/Bengaluru   \n",
       "8            Bangalore/Bengaluru\\n(WFH during Covid)   \n",
       "9                                Bangalore/Bengaluru   \n",
       "\n",
       "                                       Company name Experience required  \n",
       "0                     Terawe Technologies Pvt. Ltd.            6-10 Yrs  \n",
       "1  Harman Connected Services Corporation India Pvt.            8-10 Yrs  \n",
       "2                                           Siemens             0-6 Yrs  \n",
       "3                                              Dell             5-8 Yrs  \n",
       "4                                              Dell            8-12 Yrs  \n",
       "5     o9 Solutions Management India Private Limited             4-9 Yrs  \n",
       "6     o9 Solutions Management India Private Limited             4-9 Yrs  \n",
       "7                                             Shell             2-7 Yrs  \n",
       "8                         Samya.AI A FRACTAL Entity             3-8 Yrs  \n",
       "9                                     Rakuten, Inc.             3-7 Yrs  "
      ]
     },
     "execution_count": 151,
     "metadata": {},
     "output_type": "execute_result"
    }
   ],
   "source": [
    "# creat Data Frame of the job-title, job-location, company_name, experience_required: \n",
    "# Data scientist as DS\n",
    "DS_jobs_df=pd.DataFrame({'Job Title':job_title,\"Job Location\":job_loc,\"Company name\":company,\"Experience required\":experience})\n",
    "DS_jobs_df.head(10)"
   ]
  },
  {
   "cell_type": "code",
   "execution_count": null,
   "id": "1ed0955b",
   "metadata": {},
   "outputs": [],
   "source": []
  },
  {
   "cell_type": "markdown",
   "id": "b65a60da",
   "metadata": {},
   "source": [
    "## Q3: In this question you have to scrape data using the filters available on the webpage:\n",
    "You have to use the location and salary filter.\n",
    "You have to scrape data for “Data Scientist” designation for first 10 job results.\n",
    "You have to scrape the job-title, job-location, company name, experience required. The location filter to be used is “Delhi/NCR”. The salary filter to be used is “3-6” lakhs"
   ]
  },
  {
   "cell_type": "code",
   "execution_count": 152,
   "id": "096dcd14",
   "metadata": {},
   "outputs": [],
   "source": [
    "# connect to web driver path:\n",
    "driver=webdriver.Chrome('chromedriver.exe')"
   ]
  },
  {
   "cell_type": "code",
   "execution_count": 153,
   "id": "52c1c80f",
   "metadata": {},
   "outputs": [],
   "source": [
    "#passing url:\n",
    "url='https://www.naukri.com/'\n",
    "driver.get(url)"
   ]
  },
  {
   "cell_type": "code",
   "execution_count": 154,
   "id": "76a11b2f",
   "metadata": {},
   "outputs": [
    {
     "data": {
      "text/plain": [
       "<selenium.webdriver.remote.webelement.WebElement (session=\"2f880f58c26a76363c759f693a7194d1\", element=\"262e216f-85a7-4c2f-b94d-666898b7b1ac\")>"
      ]
     },
     "execution_count": 154,
     "metadata": {},
     "output_type": "execute_result"
    }
   ],
   "source": [
    "#search job using id:\n",
    "search_job=driver.find_element_by_class_name('suggestor-input')\n",
    "search_job"
   ]
  },
  {
   "cell_type": "code",
   "execution_count": 155,
   "id": "0c36494d",
   "metadata": {},
   "outputs": [],
   "source": [
    "#search job:\n",
    "search_job.send_keys('Data scientist')"
   ]
  },
  {
   "cell_type": "code",
   "execution_count": 156,
   "id": "4dde0538",
   "metadata": {},
   "outputs": [],
   "source": [
    "#check location using absolute xpath:\n",
    "loc_check=driver.find_element_by_xpath('/html/body/div/div[2]/div[3]/div/div/div[3]/div/div/div/input')\n",
    "loc_check.click()"
   ]
  },
  {
   "cell_type": "code",
   "execution_count": 158,
   "id": "e9e3f2f3",
   "metadata": {},
   "outputs": [],
   "source": [
    "#search bar:\n",
    "search_bar=driver.find_element_by_xpath(\"/html/body/div/div[2]/div[3]/div/div/div[6]\")\n",
    "search_bar.click()"
   ]
  },
  {
   "cell_type": "code",
   "execution_count": 159,
   "id": "9fb9b410",
   "metadata": {},
   "outputs": [],
   "source": [
    "# check salary using absolute xpath:\n",
    "salary_check=driver.find_element_by_xpath(\"/html/body/div[1]/div[3]/div[2]/section[1]/div[2]/div[4]/div[2]/div[2]/label/p/span[1]\")\n",
    "salary_check.click()"
   ]
  },
  {
   "cell_type": "code",
   "execution_count": 163,
   "id": "732b87a3",
   "metadata": {},
   "outputs": [],
   "source": [
    "#providing location for job (Delhi/NCR):\n",
    "search_loc = driver.find_element_by_xpath('/html/body/div[1]/div[3]/div[2]/section[1]/div[2]/div[4]/div[2]/div[3]/label/i')\n",
    "search_loc.click()"
   ]
  },
  {
   "cell_type": "code",
   "execution_count": 164,
   "id": "e83128fc",
   "metadata": {},
   "outputs": [],
   "source": [
    "#creating a dictionary for storing the information after scraping\n",
    "#for each job we will scrape the job-title, job-location, company_name, experience_required.\n",
    "\n",
    "# for job title:\n",
    "title = driver.find_elements_by_xpath(\"//a[@class='title fw500 ellipsis']\")\n",
    "job_title = []\n",
    "for i in title:\n",
    "    job_title.append(i.text)\n",
    "\n",
    "    \n",
    "# for job location:\n",
    "loc = driver.find_elements_by_xpath(\"//li[@class='fleft grey-text br2 placeHolderLi location']\")\n",
    "job_loc = []\n",
    "\n",
    "for i in loc:\n",
    "    job_loc.append(i.text)\n",
    "    \n",
    "    \n",
    "# for job company name:\n",
    "comp = driver.find_elements_by_xpath(\"//a[@class='subTitle ellipsis fleft']\")\n",
    "company=[]\n",
    "\n",
    "for i in comp:\n",
    "    company.append(i.text)\n",
    "\n",
    "    \n",
    "# for experience required:\n",
    "exp = driver.find_elements_by_xpath(\"//li[@class='fleft grey-text br2 placeHolderLi experience']\")\n",
    "experience=[]\n",
    "\n",
    "for i in exp:\n",
    "    experience.append(i.text)"
   ]
  },
  {
   "cell_type": "code",
   "execution_count": 165,
   "id": "26ee91ce",
   "metadata": {},
   "outputs": [
    {
     "data": {
      "text/html": [
       "<div>\n",
       "<style scoped>\n",
       "    .dataframe tbody tr th:only-of-type {\n",
       "        vertical-align: middle;\n",
       "    }\n",
       "\n",
       "    .dataframe tbody tr th {\n",
       "        vertical-align: top;\n",
       "    }\n",
       "\n",
       "    .dataframe thead th {\n",
       "        text-align: right;\n",
       "    }\n",
       "</style>\n",
       "<table border=\"1\" class=\"dataframe\">\n",
       "  <thead>\n",
       "    <tr style=\"text-align: right;\">\n",
       "      <th></th>\n",
       "      <th>Job Title</th>\n",
       "      <th>Job Location</th>\n",
       "      <th>Company name</th>\n",
       "      <th>Experience required</th>\n",
       "    </tr>\n",
       "  </thead>\n",
       "  <tbody>\n",
       "    <tr>\n",
       "      <th>0</th>\n",
       "      <td>Data Scientist / Senior DS/ Team Lead</td>\n",
       "      <td>Mumbai, Gurgaon/Gurugram(Cyber City +1)</td>\n",
       "      <td>NebulARC Technologies Private Limited</td>\n",
       "      <td>0-4 Yrs</td>\n",
       "    </tr>\n",
       "    <tr>\n",
       "      <th>1</th>\n",
       "      <td>Hiring For Data Analyst / Data Scientist</td>\n",
       "      <td>Noida(Sector-59 Noida)</td>\n",
       "      <td>Careerera</td>\n",
       "      <td>2-5 Yrs</td>\n",
       "    </tr>\n",
       "    <tr>\n",
       "      <th>2</th>\n",
       "      <td>Senior Data Scientist I</td>\n",
       "      <td>Gurgaon/Gurugram</td>\n",
       "      <td>Delhivery</td>\n",
       "      <td>3-7 Yrs</td>\n",
       "    </tr>\n",
       "    <tr>\n",
       "      <th>3</th>\n",
       "      <td>Job Opportunity || Data Scientist || HCL Techn...</td>\n",
       "      <td>Delhi / NCR</td>\n",
       "      <td>HCL</td>\n",
       "      <td>2-6 Yrs</td>\n",
       "    </tr>\n",
       "    <tr>\n",
       "      <th>4</th>\n",
       "      <td>Data Scientist | Python | Machine Learning | D...</td>\n",
       "      <td>Noida, Gurgaon/Gurugram, Delhi / NCR</td>\n",
       "      <td>Schlesinger Group</td>\n",
       "      <td>0-3 Yrs</td>\n",
       "    </tr>\n",
       "    <tr>\n",
       "      <th>5</th>\n",
       "      <td>Openings For Jr/mid/Sr level data Scientists</td>\n",
       "      <td>Kolkata, Hyderabad/Secunderabad, Pune, Ahmedab...</td>\n",
       "      <td>Pluto seven business solutions (p) limited</td>\n",
       "      <td>2-6 Yrs</td>\n",
       "    </tr>\n",
       "    <tr>\n",
       "      <th>6</th>\n",
       "      <td>Data Scientist</td>\n",
       "      <td>Gurgaon/Gurugram</td>\n",
       "      <td>T &amp; A Solutions</td>\n",
       "      <td>2-6 Yrs</td>\n",
       "    </tr>\n",
       "    <tr>\n",
       "      <th>7</th>\n",
       "      <td>Data Scientist</td>\n",
       "      <td>Gurgaon/Gurugram(Uday Nagar)</td>\n",
       "      <td>Core Diagnostics Private Limited</td>\n",
       "      <td>2-7 Yrs</td>\n",
       "    </tr>\n",
       "    <tr>\n",
       "      <th>8</th>\n",
       "      <td>Urgent Hiring For Data Scientist</td>\n",
       "      <td>Gurgaon/Gurugram, Bangalore/Bengaluru</td>\n",
       "      <td>Mount Talent Consulting Private Limited</td>\n",
       "      <td>1-6 Yrs</td>\n",
       "    </tr>\n",
       "    <tr>\n",
       "      <th>9</th>\n",
       "      <td>Urgent Hiring For Data Scientist</td>\n",
       "      <td>Gurgaon/Gurugram, Bangalore/Bengaluru</td>\n",
       "      <td>Mount Talent Consulting Private Limited</td>\n",
       "      <td>1-6 Yrs</td>\n",
       "    </tr>\n",
       "  </tbody>\n",
       "</table>\n",
       "</div>"
      ],
      "text/plain": [
       "                                           Job Title  \\\n",
       "0              Data Scientist / Senior DS/ Team Lead   \n",
       "1           Hiring For Data Analyst / Data Scientist   \n",
       "2                            Senior Data Scientist I   \n",
       "3  Job Opportunity || Data Scientist || HCL Techn...   \n",
       "4  Data Scientist | Python | Machine Learning | D...   \n",
       "5       Openings For Jr/mid/Sr level data Scientists   \n",
       "6                                     Data Scientist   \n",
       "7                                     Data Scientist   \n",
       "8                   Urgent Hiring For Data Scientist   \n",
       "9                   Urgent Hiring For Data Scientist   \n",
       "\n",
       "                                        Job Location  \\\n",
       "0            Mumbai, Gurgaon/Gurugram(Cyber City +1)   \n",
       "1                             Noida(Sector-59 Noida)   \n",
       "2                                   Gurgaon/Gurugram   \n",
       "3                                        Delhi / NCR   \n",
       "4               Noida, Gurgaon/Gurugram, Delhi / NCR   \n",
       "5  Kolkata, Hyderabad/Secunderabad, Pune, Ahmedab...   \n",
       "6                                   Gurgaon/Gurugram   \n",
       "7                       Gurgaon/Gurugram(Uday Nagar)   \n",
       "8              Gurgaon/Gurugram, Bangalore/Bengaluru   \n",
       "9              Gurgaon/Gurugram, Bangalore/Bengaluru   \n",
       "\n",
       "                                 Company name Experience required  \n",
       "0       NebulARC Technologies Private Limited             0-4 Yrs  \n",
       "1                                   Careerera             2-5 Yrs  \n",
       "2                                   Delhivery             3-7 Yrs  \n",
       "3                                         HCL             2-6 Yrs  \n",
       "4                           Schlesinger Group             0-3 Yrs  \n",
       "5  Pluto seven business solutions (p) limited             2-6 Yrs  \n",
       "6                             T & A Solutions             2-6 Yrs  \n",
       "7            Core Diagnostics Private Limited             2-7 Yrs  \n",
       "8     Mount Talent Consulting Private Limited             1-6 Yrs  \n",
       "9     Mount Talent Consulting Private Limited             1-6 Yrs  "
      ]
     },
     "execution_count": 165,
     "metadata": {},
     "output_type": "execute_result"
    }
   ],
   "source": [
    "# creat Data Frame of the job-title, job-location (Delhi/NCR), company_name, experience_required: \n",
    "# Data scientist as DS \n",
    "\n",
    "DS_job=pd.DataFrame({'Job Title':job_title,\"Job Location\":job_loc,\"Company name\":company,\"Experience required\":experience})\n",
    "DS_job.head(10)"
   ]
  },
  {
   "cell_type": "code",
   "execution_count": null,
   "id": "2ee0439b",
   "metadata": {},
   "outputs": [],
   "source": []
  },
  {
   "cell_type": "markdown",
   "id": "80f3cb80",
   "metadata": {},
   "source": [
    "## Q4: Scrape data of first 100 sunglasses listings on flipkart.com. You have to scrape four attributes:\n",
    "1. Brand\n",
    "2. Product Description\n",
    "3. Price"
   ]
  },
  {
   "cell_type": "code",
   "execution_count": 166,
   "id": "5ea1f619",
   "metadata": {},
   "outputs": [],
   "source": [
    "# connect to web driver path:\n",
    "driver=webdriver.Chrome('chromedriver.exe')"
   ]
  },
  {
   "cell_type": "code",
   "execution_count": 167,
   "id": "c9255701",
   "metadata": {},
   "outputs": [],
   "source": [
    "#passing url:\n",
    "url='https://www.flipkart.com/'\n",
    "driver.get(url)"
   ]
  },
  {
   "cell_type": "code",
   "execution_count": 168,
   "id": "0b6c65ed",
   "metadata": {},
   "outputs": [],
   "source": [
    "# selecting the require product:\n",
    "search = driver.find_element_by_class_name(\"_3704LK\")\n",
    "search.send_keys(\"Sun Glasses\")"
   ]
  },
  {
   "cell_type": "code",
   "execution_count": 170,
   "id": "f31846b8",
   "metadata": {},
   "outputs": [],
   "source": [
    "# search bar:\n",
    "search_bar = driver.find_element_by_class_name('L0Z3Pu')\n",
    "search_bar.click()"
   ]
  },
  {
   "cell_type": "code",
   "execution_count": 175,
   "id": "d9f160fe",
   "metadata": {},
   "outputs": [],
   "source": [
    "#extract data from different pages:\n",
    "start=0\n",
    "end=4\n",
    "\n",
    "#creating a dictionary for storing the information after scraping:\n",
    "\n",
    "brand = []\n",
    "price = []\n",
    "des = []\n",
    "off = []\n",
    "\n",
    "for page in range(start,end):\n",
    "    brands=driver.find_elements_by_class_name('_2WkVRV')\n",
    "    prices=driver.find_elements_by_xpath(\"//div[@class='_30jeq3']\")\n",
    "    descp=driver.find_elements_by_class_name('IRpwTa')\n",
    "    dis=driver.find_elements_by_class_name('_3Ay6Sb')\n",
    "    \n",
    "    for i in brands:\n",
    "        brand.append(i.text)\n",
    "    for j in prices:\n",
    "        price.append(j.text)\n",
    "    for k in descp:\n",
    "        des.append(k.text)\n",
    "    for l in dis:\n",
    "        off.append(l.text)\n",
    "    nxt_button=driver.find_elements_by_xpath(\"//a[@class='_1LKTO3']\")\n",
    "    try:\n",
    "        driver.get(nxt_button[1].get_attribute('href'))\n",
    "    except:\n",
    "        driver.get(nxt_button[0].get_attribute('href'))"
   ]
  },
  {
   "cell_type": "code",
   "execution_count": 176,
   "id": "162eba43",
   "metadata": {},
   "outputs": [],
   "source": [
    "# all 100 products as per our requirement:\n",
    "br=brand[0:100]\n",
    "pr=price[0:100]\n",
    "pro=des[0:100]\n",
    "dis=off[0:100]"
   ]
  },
  {
   "cell_type": "code",
   "execution_count": 179,
   "id": "3e28a324",
   "metadata": {},
   "outputs": [
    {
     "data": {
      "text/html": [
       "<div>\n",
       "<style scoped>\n",
       "    .dataframe tbody tr th:only-of-type {\n",
       "        vertical-align: middle;\n",
       "    }\n",
       "\n",
       "    .dataframe tbody tr th {\n",
       "        vertical-align: top;\n",
       "    }\n",
       "\n",
       "    .dataframe thead th {\n",
       "        text-align: right;\n",
       "    }\n",
       "</style>\n",
       "<table border=\"1\" class=\"dataframe\">\n",
       "  <thead>\n",
       "    <tr style=\"text-align: right;\">\n",
       "      <th></th>\n",
       "      <th>Brand</th>\n",
       "      <th>Product Description</th>\n",
       "      <th>Price</th>\n",
       "      <th>Discount</th>\n",
       "    </tr>\n",
       "  </thead>\n",
       "  <tbody>\n",
       "    <tr>\n",
       "      <th>0</th>\n",
       "      <td>Fastrack</td>\n",
       "      <td>UV Protection Aviator Sunglasses (Free Size)</td>\n",
       "      <td>₹1,509</td>\n",
       "      <td>24% off</td>\n",
       "    </tr>\n",
       "    <tr>\n",
       "      <th>1</th>\n",
       "      <td>DEIXELS</td>\n",
       "      <td>Polarized, UV Protection, Riding Glasses Wayfa...</td>\n",
       "      <td>₹249</td>\n",
       "      <td>58% off</td>\n",
       "    </tr>\n",
       "    <tr>\n",
       "      <th>2</th>\n",
       "      <td>ROYAL SON</td>\n",
       "      <td>UV Protection, Gradient Butterfly Sunglasses (52)</td>\n",
       "      <td>₹664</td>\n",
       "      <td>66% off</td>\n",
       "    </tr>\n",
       "    <tr>\n",
       "      <th>3</th>\n",
       "      <td>ROZZETTA CRAFT</td>\n",
       "      <td>UV Protection, Gradient Rectangular Sunglasses...</td>\n",
       "      <td>₹383</td>\n",
       "      <td>80% off</td>\n",
       "    </tr>\n",
       "    <tr>\n",
       "      <th>4</th>\n",
       "      <td>Mi</td>\n",
       "      <td>Polarized Aviator Sunglasses (Free Size)</td>\n",
       "      <td>₹999</td>\n",
       "      <td>16% off</td>\n",
       "    </tr>\n",
       "    <tr>\n",
       "      <th>...</th>\n",
       "      <td>...</td>\n",
       "      <td>...</td>\n",
       "      <td>...</td>\n",
       "      <td>...</td>\n",
       "    </tr>\n",
       "    <tr>\n",
       "      <th>95</th>\n",
       "      <td>Rich Club</td>\n",
       "      <td>Polarized, UV Protection, Riding Glasses Wayfa...</td>\n",
       "      <td>₹314</td>\n",
       "      <td>73% off</td>\n",
       "    </tr>\n",
       "    <tr>\n",
       "      <th>96</th>\n",
       "      <td>GANSTA</td>\n",
       "      <td>Night Vision, Riding Glasses Aviator Sunglasse...</td>\n",
       "      <td>₹212</td>\n",
       "      <td>85% off</td>\n",
       "    </tr>\n",
       "    <tr>\n",
       "      <th>97</th>\n",
       "      <td>Ray-Ban</td>\n",
       "      <td>UV Protection Wrap-around Sunglasses (Free Size)</td>\n",
       "      <td>₹9,169</td>\n",
       "      <td>67% off</td>\n",
       "    </tr>\n",
       "    <tr>\n",
       "      <th>98</th>\n",
       "      <td>BKGE</td>\n",
       "      <td>UV Protection, Polarized Rectangular, Retro Sq...</td>\n",
       "      <td>₹354</td>\n",
       "      <td>86% off</td>\n",
       "    </tr>\n",
       "    <tr>\n",
       "      <th>99</th>\n",
       "      <td>Rich Club</td>\n",
       "      <td>Polarized Round Sunglasses (48)</td>\n",
       "      <td>₹163</td>\n",
       "      <td>70% off</td>\n",
       "    </tr>\n",
       "  </tbody>\n",
       "</table>\n",
       "<p>100 rows × 4 columns</p>\n",
       "</div>"
      ],
      "text/plain": [
       "             Brand                                Product Description   Price  \\\n",
       "0         Fastrack       UV Protection Aviator Sunglasses (Free Size)  ₹1,509   \n",
       "1          DEIXELS  Polarized, UV Protection, Riding Glasses Wayfa...    ₹249   \n",
       "2        ROYAL SON  UV Protection, Gradient Butterfly Sunglasses (52)    ₹664   \n",
       "3   ROZZETTA CRAFT  UV Protection, Gradient Rectangular Sunglasses...    ₹383   \n",
       "4               Mi           Polarized Aviator Sunglasses (Free Size)    ₹999   \n",
       "..             ...                                                ...     ...   \n",
       "95       Rich Club  Polarized, UV Protection, Riding Glasses Wayfa...    ₹314   \n",
       "96          GANSTA  Night Vision, Riding Glasses Aviator Sunglasse...    ₹212   \n",
       "97         Ray-Ban   UV Protection Wrap-around Sunglasses (Free Size)  ₹9,169   \n",
       "98            BKGE  UV Protection, Polarized Rectangular, Retro Sq...    ₹354   \n",
       "99       Rich Club                    Polarized Round Sunglasses (48)    ₹163   \n",
       "\n",
       "   Discount  \n",
       "0   24% off  \n",
       "1   58% off  \n",
       "2   66% off  \n",
       "3   80% off  \n",
       "4   16% off  \n",
       "..      ...  \n",
       "95  73% off  \n",
       "96  85% off  \n",
       "97  67% off  \n",
       "98  86% off  \n",
       "99  70% off  \n",
       "\n",
       "[100 rows x 4 columns]"
      ]
     },
     "execution_count": 179,
     "metadata": {},
     "output_type": "execute_result"
    }
   ],
   "source": [
    "# creat Data Frame of the Sun Glasses as brand, price, product description and discount:\n",
    "\n",
    "SunGlasses=pd.DataFrame() \n",
    "SunGlasses['Brand']=br\n",
    "SunGlasses['Product Description'] = pro\n",
    "SunGlasses['Price']=pr\n",
    "SunGlasses['Discount']=dis\n",
    "SunGlasses"
   ]
  },
  {
   "cell_type": "code",
   "execution_count": null,
   "id": "adf2ab1a",
   "metadata": {},
   "outputs": [],
   "source": []
  },
  {
   "cell_type": "markdown",
   "id": "475630ed",
   "metadata": {},
   "source": [
    "## Q5: Scrape 100 reviews data from flipkart.com for iphone11 phone. You have to go the link: https://www.flipkart.com/apple-iphone-11-black-64-gb-includes- earpods-power- adapter/p/itm0f37c2240b217?pid=MOBFKCTSVZAXUHGR&lid=LSTMOBFKC TSVZAXUHGREPBFGI&marketplace.\n",
    "When you will open the above link you will reach to the below shown webpage :\n",
    "1. Rating\n",
    "2. Review summary\n",
    "3. Full review\n",
    "4. You have to scrape this data for first 100 reviews."
   ]
  },
  {
   "cell_type": "code",
   "execution_count": 2,
   "id": "511fc700",
   "metadata": {},
   "outputs": [],
   "source": [
    "# connect to web driver:\n",
    "driver=webdriver.Chrome('chromedriver.exe')"
   ]
  },
  {
   "cell_type": "code",
   "execution_count": 6,
   "id": "17df85da",
   "metadata": {},
   "outputs": [],
   "source": [
    "#passing url:\n",
    "url='https://www.flipkart.com/search?q=iphone%2011&otracker=search&otracker1=search&marketplace=FLIPKART&as-show=on&as=off'\n",
    "driver.get(url)"
   ]
  },
  {
   "cell_type": "code",
   "execution_count": 8,
   "id": "d2e4b110",
   "metadata": {},
   "outputs": [],
   "source": [
    "#WebElement using xpath:\n",
    "iphone = driver.find_element_by_xpath('//*[@id=\"container\"]/div/div[3]/div[1]/div[2]/div[26]/div/div/nav/a[5]')\n",
    "iphone.click()"
   ]
  },
  {
   "cell_type": "code",
   "execution_count": 10,
   "id": "b7c90bce",
   "metadata": {},
   "outputs": [],
   "source": [
    "#extract data from different pages:\n",
    "start=0\n",
    "end=12\n",
    "\n",
    "#creating a dictionary for storing the information after scraping:\n",
    "\n",
    "rating = []\n",
    "review = []\n",
    "full = []\n",
    "\n",
    "for page in range(start,end):\n",
    "    ratings=driver.find_elements_by_xpath(\"//div[@class='_3LWZlK _1BLPMq']\"or\"//div[@class='_3LWZlK _1rdVr6 _1BLPMq']\")\n",
    "    reviews=driver.find_elements_by_xpath(\"//p[@class='_2-N8zT']\")\n",
    "    descp=driver.find_elements_by_xpath(\"//div[@class='t-ZTKy']\")\n",
    "    for i in ratings:\n",
    "        rating.append(i.text)\n",
    "    for j in reviews:\n",
    "        review.append(j.text)\n",
    "    for k in descp:\n",
    "        full.append(k.text)\n",
    "    nxt_button=driver.find_elements_by_xpath(\"//a[@class='_1LKTO3']\")\n",
    "    try:\n",
    "        driver.get(nxt_button[1].get_attribute('href'))\n",
    "    except:\n",
    "        driver.get(nxt_button[0].get_attribute('href'))"
   ]
  },
  {
   "cell_type": "code",
   "execution_count": 21,
   "id": "0d271fd3",
   "metadata": {},
   "outputs": [],
   "source": [
    "# all 100 products as per our requirement:\n",
    "\n",
    "r=rating[0:100]\n",
    "w=review[0:100]\n",
    "d=full[0:100]"
   ]
  },
  {
   "cell_type": "code",
   "execution_count": 24,
   "id": "259414e8",
   "metadata": {},
   "outputs": [
    {
     "data": {
      "text/html": [
       "<div>\n",
       "<style scoped>\n",
       "    .dataframe tbody tr th:only-of-type {\n",
       "        vertical-align: middle;\n",
       "    }\n",
       "\n",
       "    .dataframe tbody tr th {\n",
       "        vertical-align: top;\n",
       "    }\n",
       "\n",
       "    .dataframe thead th {\n",
       "        text-align: right;\n",
       "    }\n",
       "</style>\n",
       "<table border=\"1\" class=\"dataframe\">\n",
       "  <thead>\n",
       "    <tr style=\"text-align: right;\">\n",
       "      <th></th>\n",
       "      <th>0</th>\n",
       "      <th>1</th>\n",
       "      <th>2</th>\n",
       "      <th>3</th>\n",
       "      <th>4</th>\n",
       "      <th>5</th>\n",
       "      <th>6</th>\n",
       "      <th>7</th>\n",
       "      <th>8</th>\n",
       "      <th>9</th>\n",
       "      <th>...</th>\n",
       "      <th>90</th>\n",
       "      <th>91</th>\n",
       "      <th>92</th>\n",
       "      <th>93</th>\n",
       "      <th>94</th>\n",
       "      <th>95</th>\n",
       "      <th>96</th>\n",
       "      <th>97</th>\n",
       "      <th>98</th>\n",
       "      <th>99</th>\n",
       "    </tr>\n",
       "  </thead>\n",
       "  <tbody>\n",
       "    <tr>\n",
       "      <th>rating</th>\n",
       "      <td>5</td>\n",
       "      <td>5</td>\n",
       "      <td>5</td>\n",
       "      <td>5</td>\n",
       "      <td>5</td>\n",
       "      <td>4</td>\n",
       "      <td>5</td>\n",
       "      <td>5</td>\n",
       "      <td>5</td>\n",
       "      <td>5</td>\n",
       "      <td>...</td>\n",
       "      <td>None</td>\n",
       "      <td>None</td>\n",
       "      <td>None</td>\n",
       "      <td>None</td>\n",
       "      <td>None</td>\n",
       "      <td>None</td>\n",
       "      <td>None</td>\n",
       "      <td>None</td>\n",
       "      <td>None</td>\n",
       "      <td>None</td>\n",
       "    </tr>\n",
       "    <tr>\n",
       "      <th>review</th>\n",
       "      <td>I love My I Phone 5C!!!</td>\n",
       "      <td>Must buy!</td>\n",
       "      <td>No complaints</td>\n",
       "      <td>Simply awesome</td>\n",
       "      <td>Best phone still @25-27K</td>\n",
       "      <td>Absolute rubbish!</td>\n",
       "      <td>Iphone 5S review</td>\n",
       "      <td>Worthless</td>\n",
       "      <td>Good quality product</td>\n",
       "      <td>Perfect product!</td>\n",
       "      <td>...</td>\n",
       "      <td>No complaints</td>\n",
       "      <td>Simply awesome</td>\n",
       "      <td>Excellent</td>\n",
       "      <td>Must buy!</td>\n",
       "      <td>Iphone 5S review</td>\n",
       "      <td>Worthless</td>\n",
       "      <td>Best phone still @25-27K</td>\n",
       "      <td>Absolute rubbish!</td>\n",
       "      <td>I love My I Phone 5C!!!</td>\n",
       "      <td>Must buy!</td>\n",
       "    </tr>\n",
       "    <tr>\n",
       "      <th>desription</th>\n",
       "      <td>Now i know what drives people crazy about I ph...</td>\n",
       "      <td>Still using it in 2019 😂</td>\n",
       "      <td>If you want a compact, easy-to-hold-and-use ph...</td>\n",
       "      <td>It’s camera quality is superb and very compact...</td>\n",
       "      <td>Purchased at BBD @2016 Oct. After 5months of u...</td>\n",
       "      <td>battery service very bad ..Battery not working...</td>\n",
       "      <td>Well the iPhone 5S is here ! its the best iPho...</td>\n",
       "      <td>There was defect in camera lens</td>\n",
       "      <td>impressively Nice......\\nOne of the greatest i...</td>\n",
       "      <td>Nice products thanks flkat</td>\n",
       "      <td>...</td>\n",
       "      <td>If you want a compact, easy-to-hold-and-use ph...</td>\n",
       "      <td>It’s camera quality is superb and very compact...</td>\n",
       "      <td>awesome\\n\\nscreen quality better than any othe...</td>\n",
       "      <td>Its doenst need any review i guess so</td>\n",
       "      <td>Well the iPhone 5S is here ! its the best iPho...</td>\n",
       "      <td>There was defect in camera lens</td>\n",
       "      <td>Purchased at BBD @2016 Oct. After 5months of u...</td>\n",
       "      <td>battery service very bad ..Battery not working...</td>\n",
       "      <td>Now i know what drives people crazy about I ph...</td>\n",
       "      <td>Still using it in 2019 😂</td>\n",
       "    </tr>\n",
       "  </tbody>\n",
       "</table>\n",
       "<p>3 rows × 100 columns</p>\n",
       "</div>"
      ],
      "text/plain": [
       "                                                           0   \\\n",
       "rating                                                      5   \n",
       "review                                I love My I Phone 5C!!!   \n",
       "desription  Now i know what drives people crazy about I ph...   \n",
       "\n",
       "                                  1   \\\n",
       "rating                             5   \n",
       "review                     Must buy!   \n",
       "desription  Still using it in 2019 😂   \n",
       "\n",
       "                                                           2   \\\n",
       "rating                                                      5   \n",
       "review                                          No complaints   \n",
       "desription  If you want a compact, easy-to-hold-and-use ph...   \n",
       "\n",
       "                                                           3   \\\n",
       "rating                                                      5   \n",
       "review                                         Simply awesome   \n",
       "desription  It’s camera quality is superb and very compact...   \n",
       "\n",
       "                                                           4   \\\n",
       "rating                                                      5   \n",
       "review                               Best phone still @25-27K   \n",
       "desription  Purchased at BBD @2016 Oct. After 5months of u...   \n",
       "\n",
       "                                                           5   \\\n",
       "rating                                                      4   \n",
       "review                                      Absolute rubbish!   \n",
       "desription  battery service very bad ..Battery not working...   \n",
       "\n",
       "                                                           6   \\\n",
       "rating                                                      5   \n",
       "review                                       Iphone 5S review   \n",
       "desription  Well the iPhone 5S is here ! its the best iPho...   \n",
       "\n",
       "                                         7   \\\n",
       "rating                                    5   \n",
       "review                            Worthless   \n",
       "desription  There was defect in camera lens   \n",
       "\n",
       "                                                           8   \\\n",
       "rating                                                      5   \n",
       "review                                   Good quality product   \n",
       "desription  impressively Nice......\\nOne of the greatest i...   \n",
       "\n",
       "                                    9   ...  \\\n",
       "rating                               5  ...   \n",
       "review                Perfect product!  ...   \n",
       "desription  Nice products thanks flkat  ...   \n",
       "\n",
       "                                                           90  \\\n",
       "rating                                                   None   \n",
       "review                                          No complaints   \n",
       "desription  If you want a compact, easy-to-hold-and-use ph...   \n",
       "\n",
       "                                                           91  \\\n",
       "rating                                                   None   \n",
       "review                                         Simply awesome   \n",
       "desription  It’s camera quality is superb and very compact...   \n",
       "\n",
       "                                                           92  \\\n",
       "rating                                                   None   \n",
       "review                                              Excellent   \n",
       "desription  awesome\\n\\nscreen quality better than any othe...   \n",
       "\n",
       "                                               93  \\\n",
       "rating                                       None   \n",
       "review                                  Must buy!   \n",
       "desription  Its doenst need any review i guess so   \n",
       "\n",
       "                                                           94  \\\n",
       "rating                                                   None   \n",
       "review                                       Iphone 5S review   \n",
       "desription  Well the iPhone 5S is here ! its the best iPho...   \n",
       "\n",
       "                                         95  \\\n",
       "rating                                 None   \n",
       "review                            Worthless   \n",
       "desription  There was defect in camera lens   \n",
       "\n",
       "                                                           96  \\\n",
       "rating                                                   None   \n",
       "review                               Best phone still @25-27K   \n",
       "desription  Purchased at BBD @2016 Oct. After 5months of u...   \n",
       "\n",
       "                                                           97  \\\n",
       "rating                                                   None   \n",
       "review                                      Absolute rubbish!   \n",
       "desription  battery service very bad ..Battery not working...   \n",
       "\n",
       "                                                           98  \\\n",
       "rating                                                   None   \n",
       "review                                I love My I Phone 5C!!!   \n",
       "desription  Now i know what drives people crazy about I ph...   \n",
       "\n",
       "                                  99  \n",
       "rating                          None  \n",
       "review                     Must buy!  \n",
       "desription  Still using it in 2019 😂  \n",
       "\n",
       "[3 rows x 100 columns]"
      ]
     },
     "execution_count": 24,
     "metadata": {},
     "output_type": "execute_result"
    }
   ],
   "source": [
    "# # creat Data Frame of the Rating Fullreview and descreption:\n",
    "items = {'rating':r,\"review\":w,\"desription\":d}\n",
    "iphone_reviews=pd.DataFrame.from_dict(items , orient='index')\n",
    "iphone_reviews"
   ]
  },
  {
   "cell_type": "code",
   "execution_count": null,
   "id": "8159308a",
   "metadata": {},
   "outputs": [],
   "source": []
  },
  {
   "cell_type": "markdown",
   "id": "84d2bcd5",
   "metadata": {},
   "source": [
    "## Q6: Scrape data for first 100 sneakers you find when you visit flipkart.com andsearch for “sneakers” in the search field.\n",
    "You have to scrape 4 attributes of each sneaker:\n",
    "1. Brand\n",
    "2. Product Description\n",
    "3. Price"
   ]
  },
  {
   "cell_type": "code",
   "execution_count": 60,
   "id": "b55c9537",
   "metadata": {},
   "outputs": [],
   "source": [
    "#connect to web driver:\n",
    "driver = webdriver.Chrome(r\"C:\\driver\\chromedriver.exe\")"
   ]
  },
  {
   "cell_type": "code",
   "execution_count": 61,
   "id": "efb55913",
   "metadata": {},
   "outputs": [],
   "source": [
    "# passing url:\n",
    "url='https://www.flipkart.com/'\n",
    "driver.get(url)"
   ]
  },
  {
   "cell_type": "code",
   "execution_count": 62,
   "id": "727ff8cb",
   "metadata": {},
   "outputs": [],
   "source": [
    "# search web element for sneaker:\n",
    "search = driver.find_element_by_class_name(\"_3704LK\")"
   ]
  },
  {
   "cell_type": "code",
   "execution_count": 63,
   "id": "50145acc",
   "metadata": {},
   "outputs": [],
   "source": [
    "# search bar:\n",
    "search.send_keys(\"sneakers\")"
   ]
  },
  {
   "cell_type": "code",
   "execution_count": 64,
   "id": "603630e6",
   "metadata": {},
   "outputs": [],
   "source": [
    "# search button using xpath:\n",
    "search_btn=driver.find_element_by_class_name(\"L0Z3Pu\")\n",
    "search_btn.click()"
   ]
  },
  {
   "cell_type": "code",
   "execution_count": 65,
   "id": "6bc1783e",
   "metadata": {},
   "outputs": [],
   "source": [
    "#for extracting data from different pages :\n",
    "start=0\n",
    "end=3\n",
    "\n",
    "#creating a dictionary for storing the information after scraping:\n",
    "\n",
    "brand = []\n",
    "price = []\n",
    "des = []\n",
    "off = []\n",
    "\n",
    "for page in range(start,end):\n",
    "    brands=driver.find_elements_by_class_name('_2WkVRV')\n",
    "    descp=driver.find_elements_by_xpath(\"//a[@class='IRpwTa']\")\n",
    "    prices=driver.find_elements_by_class_name('_30jeq3')\n",
    "    dis=driver.find_elements_by_class_name('_3Ay6Sb')\n",
    "    \n",
    "    for i in brands:\n",
    "        brand.append(i.text)\n",
    "    for j in prices:\n",
    "        price.append(j.text)\n",
    "    for k in descp:\n",
    "        des.append(k.text)\n",
    "    for l in dis:\n",
    "        off.append(l.text)\n",
    "    nxt_button=driver.find_elements_by_xpath(\"//a[@class='_1LKTO3']\")\n",
    "    try:\n",
    "        driver.get(nxt_button[1].get_attribute('href'))\n",
    "    except:\n",
    "        driver.get(nxt_button[0].get_attribute('href'))"
   ]
  },
  {
   "cell_type": "code",
   "execution_count": 66,
   "id": "b0ed4817",
   "metadata": {},
   "outputs": [],
   "source": [
    "# detail of all 100 products as per our requirement:\n",
    "bd=brand[0:100]\n",
    "pr=price[0:100]\n",
    "dis=des[0:100]\n",
    "of=off[0:100]"
   ]
  },
  {
   "cell_type": "code",
   "execution_count": 67,
   "id": "bfacaea9",
   "metadata": {},
   "outputs": [
    {
     "data": {
      "text/html": [
       "<div>\n",
       "<style scoped>\n",
       "    .dataframe tbody tr th:only-of-type {\n",
       "        vertical-align: middle;\n",
       "    }\n",
       "\n",
       "    .dataframe tbody tr th {\n",
       "        vertical-align: top;\n",
       "    }\n",
       "\n",
       "    .dataframe thead th {\n",
       "        text-align: right;\n",
       "    }\n",
       "</style>\n",
       "<table border=\"1\" class=\"dataframe\">\n",
       "  <thead>\n",
       "    <tr style=\"text-align: right;\">\n",
       "      <th></th>\n",
       "      <th>0</th>\n",
       "      <th>1</th>\n",
       "      <th>2</th>\n",
       "      <th>3</th>\n",
       "      <th>4</th>\n",
       "      <th>5</th>\n",
       "      <th>6</th>\n",
       "      <th>7</th>\n",
       "      <th>8</th>\n",
       "      <th>9</th>\n",
       "      <th>...</th>\n",
       "      <th>90</th>\n",
       "      <th>91</th>\n",
       "      <th>92</th>\n",
       "      <th>93</th>\n",
       "      <th>94</th>\n",
       "      <th>95</th>\n",
       "      <th>96</th>\n",
       "      <th>97</th>\n",
       "      <th>98</th>\n",
       "      <th>99</th>\n",
       "    </tr>\n",
       "  </thead>\n",
       "  <tbody>\n",
       "    <tr>\n",
       "      <th>Brand</th>\n",
       "      <td>RED TAPE</td>\n",
       "      <td>RED TAPE</td>\n",
       "      <td>Magnolia</td>\n",
       "      <td>URBANBOX</td>\n",
       "      <td>Labbin</td>\n",
       "      <td>luxury fashion</td>\n",
       "      <td>Stefano Rads</td>\n",
       "      <td>RED TAPE</td>\n",
       "      <td>SCATCHITE</td>\n",
       "      <td>BIRDE</td>\n",
       "      <td>...</td>\n",
       "      <td>BRUTON</td>\n",
       "      <td>RED TAPE</td>\n",
       "      <td>D-SNEAKERZ</td>\n",
       "      <td>Dizzler</td>\n",
       "      <td>HOC</td>\n",
       "      <td>RED TAPE</td>\n",
       "      <td>SPARX</td>\n",
       "      <td>Edoeviv</td>\n",
       "      <td>SPADE CLUB</td>\n",
       "      <td>RED TAPE</td>\n",
       "    </tr>\n",
       "    <tr>\n",
       "      <th>Price</th>\n",
       "      <td>₹1,678</td>\n",
       "      <td>₹1,258</td>\n",
       "      <td>₹398</td>\n",
       "      <td>₹220</td>\n",
       "      <td>₹499</td>\n",
       "      <td>₹449</td>\n",
       "      <td>₹242</td>\n",
       "      <td>₹1,258</td>\n",
       "      <td>₹398</td>\n",
       "      <td>₹299</td>\n",
       "      <td>...</td>\n",
       "      <td>₹449</td>\n",
       "      <td>₹259</td>\n",
       "      <td>₹398</td>\n",
       "      <td>₹1,258</td>\n",
       "      <td>₹499</td>\n",
       "      <td>₹429</td>\n",
       "      <td>₹499</td>\n",
       "      <td>₹1,648</td>\n",
       "      <td>₹499</td>\n",
       "      <td>₹449</td>\n",
       "    </tr>\n",
       "    <tr>\n",
       "      <th>Description</th>\n",
       "      <td>Classic Sneakers For Men</td>\n",
       "      <td>Sneakers For Men</td>\n",
       "      <td>Sneakers For Men</td>\n",
       "      <td>Sneakers For Men</td>\n",
       "      <td>Luxury Fashionable casual sneaker shoes Sneake...</td>\n",
       "      <td>Sneakers For Men</td>\n",
       "      <td>Sneakers Sneakers For Men</td>\n",
       "      <td>Sports Running Shoes Sneakers For Men</td>\n",
       "      <td>411 Casual Sneakers For Men</td>\n",
       "      <td>Sneakers For Men</td>\n",
       "      <td>...</td>\n",
       "      <td>New Fashion Outdoor Trendy Lightweight Casual,...</td>\n",
       "      <td>Classic Sneakers For Men</td>\n",
       "      <td>Modern &amp; Trendy Collection Combo Pack of 02 Sh...</td>\n",
       "      <td>Sneakers For Men</td>\n",
       "      <td>Classic Sneakers For Men</td>\n",
       "      <td>LEBRON 2.0 Sneakers For Men</td>\n",
       "      <td>Sneakers For Men</td>\n",
       "      <td>Sneakers For Men</td>\n",
       "      <td>None</td>\n",
       "      <td>None</td>\n",
       "    </tr>\n",
       "    <tr>\n",
       "      <th>Discount</th>\n",
       "      <td>70% off</td>\n",
       "      <td>70% off</td>\n",
       "      <td>60% off</td>\n",
       "      <td>77% off</td>\n",
       "      <td>50% off</td>\n",
       "      <td>65% off</td>\n",
       "      <td>65% off</td>\n",
       "      <td>70% off</td>\n",
       "      <td>60% off</td>\n",
       "      <td>40% off</td>\n",
       "      <td>...</td>\n",
       "      <td>48% off</td>\n",
       "      <td>60% off</td>\n",
       "      <td>70% off</td>\n",
       "      <td>50% off</td>\n",
       "      <td>57% off</td>\n",
       "      <td>61% off</td>\n",
       "      <td>70% off</td>\n",
       "      <td>50% off</td>\n",
       "      <td>55% off</td>\n",
       "      <td>78% off</td>\n",
       "    </tr>\n",
       "  </tbody>\n",
       "</table>\n",
       "<p>4 rows × 100 columns</p>\n",
       "</div>"
      ],
      "text/plain": [
       "                                   0                 1                 2   \\\n",
       "Brand                        RED TAPE          RED TAPE          Magnolia   \n",
       "Price                          ₹1,678            ₹1,258              ₹398   \n",
       "Description  Classic Sneakers For Men  Sneakers For Men  Sneakers For Men   \n",
       "Discount                      70% off           70% off           60% off   \n",
       "\n",
       "                           3   \\\n",
       "Brand                URBANBOX   \n",
       "Price                    ₹220   \n",
       "Description  Sneakers For Men   \n",
       "Discount              77% off   \n",
       "\n",
       "                                                            4   \\\n",
       "Brand                                                   Labbin   \n",
       "Price                                                     ₹499   \n",
       "Description  Luxury Fashionable casual sneaker shoes Sneake...   \n",
       "Discount                                               50% off   \n",
       "\n",
       "                           5                          6   \\\n",
       "Brand          luxury fashion               Stefano Rads   \n",
       "Price                    ₹449                       ₹242   \n",
       "Description  Sneakers For Men  Sneakers Sneakers For Men   \n",
       "Discount              65% off                    65% off   \n",
       "\n",
       "                                                7   \\\n",
       "Brand                                     RED TAPE   \n",
       "Price                                       ₹1,258   \n",
       "Description  Sports Running Shoes Sneakers For Men   \n",
       "Discount                                   70% off   \n",
       "\n",
       "                                      8                 9   ...  \\\n",
       "Brand                          SCATCHITE             BIRDE  ...   \n",
       "Price                               ₹398              ₹299  ...   \n",
       "Description  411 Casual Sneakers For Men  Sneakers For Men  ...   \n",
       "Discount                         60% off           40% off  ...   \n",
       "\n",
       "                                                            90  \\\n",
       "Brand                                                   BRUTON   \n",
       "Price                                                     ₹449   \n",
       "Description  New Fashion Outdoor Trendy Lightweight Casual,...   \n",
       "Discount                                               48% off   \n",
       "\n",
       "                                   91  \\\n",
       "Brand                        RED TAPE   \n",
       "Price                            ₹259   \n",
       "Description  Classic Sneakers For Men   \n",
       "Discount                      60% off   \n",
       "\n",
       "                                                            92  \\\n",
       "Brand                                               D-SNEAKERZ   \n",
       "Price                                                     ₹398   \n",
       "Description  Modern & Trendy Collection Combo Pack of 02 Sh...   \n",
       "Discount                                               70% off   \n",
       "\n",
       "                           93                        94  \\\n",
       "Brand                 Dizzler                       HOC   \n",
       "Price                  ₹1,258                      ₹499   \n",
       "Description  Sneakers For Men  Classic Sneakers For Men   \n",
       "Discount              50% off                   57% off   \n",
       "\n",
       "                                      95                96                97  \\\n",
       "Brand                           RED TAPE             SPARX           Edoeviv   \n",
       "Price                               ₹429              ₹499            ₹1,648   \n",
       "Description  LEBRON 2.0 Sneakers For Men  Sneakers For Men  Sneakers For Men   \n",
       "Discount                         61% off           70% off           50% off   \n",
       "\n",
       "                     98        99  \n",
       "Brand        SPADE CLUB  RED TAPE  \n",
       "Price              ₹499      ₹449  \n",
       "Description        None      None  \n",
       "Discount        55% off   78% off  \n",
       "\n",
       "[4 rows x 100 columns]"
      ]
     },
     "execution_count": 67,
     "metadata": {},
     "output_type": "execute_result"
    }
   ],
   "source": [
    "# Data Frame of the Brand, Price, Discount and Discription:\n",
    "sneakers_info=pd.DataFrame.from_dict({'Brand':bd,\"Price\":pr,\"Description\":dis,\"Discount\":of},  orient='index')\n",
    "sneakers_info"
   ]
  },
  {
   "cell_type": "code",
   "execution_count": null,
   "id": "1ff239bc",
   "metadata": {},
   "outputs": [],
   "source": []
  },
  {
   "cell_type": "markdown",
   "id": "5eca3512",
   "metadata": {},
   "source": [
    "## Q7: Go to the link - https://www.myntra.com/shoes\n",
    "Set Price filter to “Rs. 7149 to Rs. 14099 ” , Color filter to “Black”,\n",
    "And then scrape First 100 shoes data you get. The data should include “Brand” of the shoes , Short Shoe description, price of the shoe"
   ]
  },
  {
   "cell_type": "code",
   "execution_count": 42,
   "id": "2ad2413f",
   "metadata": {},
   "outputs": [],
   "source": [
    "#connect to web driver\n",
    "driver = webdriver.Chrome(r\"C:\\driver\\chromedriver.exe\")"
   ]
  },
  {
   "cell_type": "code",
   "execution_count": 43,
   "id": "8a31ca7d",
   "metadata": {},
   "outputs": [],
   "source": [
    "#passing url:\n",
    "url='https://www.myntra.com/shoes'\n",
    "driver.get(url)"
   ]
  },
  {
   "cell_type": "code",
   "execution_count": 44,
   "id": "5c3eb826",
   "metadata": {},
   "outputs": [],
   "source": [
    "# Get Price by using absolute xpath:\n",
    "price_check=driver.find_element_by_xpath(\"/html/body/div[2]/div/div[1]/main/div[3]/div[1]/section/div/div[5]/ul/li[2]/label/div\")\n",
    "price_check.click()"
   ]
  },
  {
   "cell_type": "code",
   "execution_count": 45,
   "id": "0ab7867b",
   "metadata": {},
   "outputs": [],
   "source": [
    "# Get color by using absolute xpath:\n",
    "color =driver.find_element_by_xpath(\"/html/body/div[2]/div/div[1]/main/div[3]/div[1]/section/div/div[6]/ul/li[1]/label/div\")\n",
    "color.click()"
   ]
  },
  {
   "cell_type": "code",
   "execution_count": 50,
   "id": "3ab19b69",
   "metadata": {},
   "outputs": [],
   "source": [
    "#for extracting data from different pages :\n",
    "start=0\n",
    "end=2\n",
    "\n",
    "#creating a dictionary for storing the information after scraping:\n",
    "brand = []\n",
    "price = []\n",
    "des = []\n",
    "\n",
    "for page in range(start,end):\n",
    "    brands=driver.find_elements_by_class_name('product-brand')\n",
    "    descp=driver.find_elements_by_xpath(\"//h4[@class='product-product']\")\n",
    "    prices=driver.find_elements_by_class_name('product-price')\n",
    "    \n",
    "    \n",
    "    for i in brands:\n",
    "        brand.append(i.text)\n",
    "    for j in prices:\n",
    "        price.append(j.text)\n",
    "    for k in descp:\n",
    "        des.append(k.text)\n",
    " \n",
    "    nxt_button=driver.find_elements_by_xpath(\"//li[@class='pagination-next']\")"
   ]
  },
  {
   "cell_type": "code",
   "execution_count": 51,
   "id": "cd7252dd",
   "metadata": {},
   "outputs": [
    {
     "data": {
      "text/html": [
       "<div>\n",
       "<style scoped>\n",
       "    .dataframe tbody tr th:only-of-type {\n",
       "        vertical-align: middle;\n",
       "    }\n",
       "\n",
       "    .dataframe tbody tr th {\n",
       "        vertical-align: top;\n",
       "    }\n",
       "\n",
       "    .dataframe thead th {\n",
       "        text-align: right;\n",
       "    }\n",
       "</style>\n",
       "<table border=\"1\" class=\"dataframe\">\n",
       "  <thead>\n",
       "    <tr style=\"text-align: right;\">\n",
       "      <th></th>\n",
       "      <th>Brand</th>\n",
       "      <th>Price</th>\n",
       "      <th>Description</th>\n",
       "    </tr>\n",
       "  </thead>\n",
       "  <tbody>\n",
       "    <tr>\n",
       "      <th>0</th>\n",
       "      <td>Puma</td>\n",
       "      <td>Rs. 7149Rs. 12999(45% OFF)</td>\n",
       "      <td>Men Running Shoes</td>\n",
       "    </tr>\n",
       "    <tr>\n",
       "      <th>1</th>\n",
       "      <td>Puma</td>\n",
       "      <td>Rs. 7799Rs. 12999(40% OFF)</td>\n",
       "      <td>Men Magnify Nitro Running</td>\n",
       "    </tr>\n",
       "    <tr>\n",
       "      <th>2</th>\n",
       "      <td>Saint G</td>\n",
       "      <td>Rs. 9265Rs. 10900(15% OFF)</td>\n",
       "      <td>Men Mid-Top Chelsea Boots</td>\n",
       "    </tr>\n",
       "    <tr>\n",
       "      <th>3</th>\n",
       "      <td>ROSSO BRUNELLO</td>\n",
       "      <td>Rs. 10999</td>\n",
       "      <td>Men Textured Formal Loafers</td>\n",
       "    </tr>\n",
       "    <tr>\n",
       "      <th>4</th>\n",
       "      <td>Bugatti</td>\n",
       "      <td>Rs. 7999Rs. 9999(20% OFF)</td>\n",
       "      <td>Men Running Shoes</td>\n",
       "    </tr>\n",
       "    <tr>\n",
       "      <th>...</th>\n",
       "      <td>...</td>\n",
       "      <td>...</td>\n",
       "      <td>...</td>\n",
       "    </tr>\n",
       "    <tr>\n",
       "      <th>95</th>\n",
       "      <td>DAVINCHI</td>\n",
       "      <td>Rs. 8990</td>\n",
       "      <td>Men Solid Leather Formal Derbys</td>\n",
       "    </tr>\n",
       "    <tr>\n",
       "      <th>96</th>\n",
       "      <td>DAVINCHI</td>\n",
       "      <td>Rs. 8990</td>\n",
       "      <td>Men Textured Formal Leather Loafers</td>\n",
       "    </tr>\n",
       "    <tr>\n",
       "      <th>97</th>\n",
       "      <td>Geox</td>\n",
       "      <td>Rs. 7999</td>\n",
       "      <td>Women Solid Leather Pumps</td>\n",
       "    </tr>\n",
       "    <tr>\n",
       "      <th>98</th>\n",
       "      <td>Geox</td>\n",
       "      <td>Rs. 10990</td>\n",
       "      <td>Women Solid Leather Pumps</td>\n",
       "    </tr>\n",
       "    <tr>\n",
       "      <th>99</th>\n",
       "      <td>Skechers</td>\n",
       "      <td>Rs. 7999</td>\n",
       "      <td>Men STAMINA AIRY Sneakers</td>\n",
       "    </tr>\n",
       "  </tbody>\n",
       "</table>\n",
       "<p>100 rows × 3 columns</p>\n",
       "</div>"
      ],
      "text/plain": [
       "             Brand                       Price  \\\n",
       "0             Puma  Rs. 7149Rs. 12999(45% OFF)   \n",
       "1             Puma  Rs. 7799Rs. 12999(40% OFF)   \n",
       "2          Saint G  Rs. 9265Rs. 10900(15% OFF)   \n",
       "3   ROSSO BRUNELLO                   Rs. 10999   \n",
       "4          Bugatti   Rs. 7999Rs. 9999(20% OFF)   \n",
       "..             ...                         ...   \n",
       "95        DAVINCHI                    Rs. 8990   \n",
       "96        DAVINCHI                    Rs. 8990   \n",
       "97            Geox                    Rs. 7999   \n",
       "98            Geox                   Rs. 10990   \n",
       "99        Skechers                    Rs. 7999   \n",
       "\n",
       "                            Description  \n",
       "0                     Men Running Shoes  \n",
       "1             Men Magnify Nitro Running  \n",
       "2             Men Mid-Top Chelsea Boots  \n",
       "3           Men Textured Formal Loafers  \n",
       "4                     Men Running Shoes  \n",
       "..                                  ...  \n",
       "95      Men Solid Leather Formal Derbys  \n",
       "96  Men Textured Formal Leather Loafers  \n",
       "97            Women Solid Leather Pumps  \n",
       "98            Women Solid Leather Pumps  \n",
       "99            Men STAMINA AIRY Sneakers  \n",
       "\n",
       "[100 rows x 3 columns]"
      ]
     },
     "execution_count": 51,
     "metadata": {},
     "output_type": "execute_result"
    }
   ],
   "source": [
    "# Data Frame of the Brand, Price and Discription:\n",
    "myntra=pd.DataFrame({'Brand':brand,\"Price\":price,\"Description\":des})\n",
    "myntra"
   ]
  },
  {
   "cell_type": "code",
   "execution_count": null,
   "id": "27b9fbce",
   "metadata": {},
   "outputs": [],
   "source": []
  },
  {
   "cell_type": "markdown",
   "id": "b3daa7ae",
   "metadata": {},
   "source": [
    "## Q8: Go to webpage https://www.amazon.in/\n",
    "Enter “Laptop” in the search field and then click the search icon.\n",
    "Then set CPU Type filter to “Intel Core i7” and “Intel Core i9”"
   ]
  },
  {
   "cell_type": "markdown",
   "id": "7b8098cb",
   "metadata": {},
   "source": [
    "## For “Intel Core i7” "
   ]
  },
  {
   "cell_type": "code",
   "execution_count": 180,
   "id": "28c09286",
   "metadata": {},
   "outputs": [],
   "source": [
    "#connecting to web driver\n",
    "driver=webdriver.Chrome('chromedriver.exe')"
   ]
  },
  {
   "cell_type": "code",
   "execution_count": 181,
   "id": "2282c7b2",
   "metadata": {},
   "outputs": [],
   "source": [
    "#passing url:\n",
    "url=' https://www.amazon.in/'\n",
    "driver.get(url)"
   ]
  },
  {
   "cell_type": "code",
   "execution_count": 182,
   "id": "e3f9c072",
   "metadata": {},
   "outputs": [
    {
     "data": {
      "text/plain": [
       "<selenium.webdriver.remote.webelement.WebElement (session=\"39d9d814521e613db5d5e9d34f6e247f\", element=\"fcc88d60-5725-4654-ba52-6091bd5ecf2d\")>"
      ]
     },
     "execution_count": 182,
     "metadata": {},
     "output_type": "execute_result"
    }
   ],
   "source": [
    "# search laptop using id:\n",
    "laptop=driver.find_element_by_id('twotabsearchtextbox')\n",
    "laptop"
   ]
  },
  {
   "cell_type": "code",
   "execution_count": 183,
   "id": "589194ac",
   "metadata": {},
   "outputs": [],
   "source": [
    "# search bar:\n",
    "laptop.send_keys('Laptop')"
   ]
  },
  {
   "cell_type": "code",
   "execution_count": 185,
   "id": "ec24d62f",
   "metadata": {},
   "outputs": [],
   "source": [
    "# search button using xpath:\n",
    "search_btn=driver.find_element_by_xpath(\"/html/body/div[1]/header/div/div[1]/div[2]/div/form/div[3]/div\")\n",
    "search_btn.click()"
   ]
  },
  {
   "cell_type": "code",
   "execution_count": 188,
   "id": "8ff6c74b",
   "metadata": {},
   "outputs": [],
   "source": [
    "# Get drivers using absolute xpath:\n",
    "i7=driver.find_element_by_id('p_n_feature_thirteen_browse-bin/12598163031')\n",
    "i7.click()"
   ]
  },
  {
   "cell_type": "code",
   "execution_count": 189,
   "id": "4419bdc5",
   "metadata": {},
   "outputs": [],
   "source": [
    "# laptop and its rating:\n",
    "urls = []\n",
    "\n",
    "for i in driver.find_elements_by_xpath('//h2[@class=\"a-size-mini a-spacing-none a-color-base s-line-clamp-2\"]/a'):\n",
    "    urls.append(i.get_attribute(\"href\"))\n",
    "urls=urls[0:10]"
   ]
  },
  {
   "cell_type": "code",
   "execution_count": 190,
   "id": "3343b6ea",
   "metadata": {},
   "outputs": [],
   "source": [
    "from selenium.common.exceptions import NoSuchElementException\n",
    "\n",
    "#Get rating:\n",
    "rating=[]\n",
    "for i in urls:\n",
    "    \n",
    "    driver.get(i)\n",
    "\n",
    "    \n",
    "    try:\n",
    "        \n",
    "        r = driver.find_element_by_xpath(\"//span[@class='a-size-base a-nowrap']\")\n",
    "        rating.append(r.text)\n",
    "        \n",
    "    except NoSuchElementException:\n",
    "        \n",
    "        rating.append('-')"
   ]
  },
  {
   "cell_type": "code",
   "execution_count": 191,
   "id": "9cd16d66",
   "metadata": {},
   "outputs": [
    {
     "data": {
      "text/plain": [
       "['3.8 out of 5',\n",
       " '3.6 out of 5',\n",
       " '2.6 out of 5',\n",
       " '4 out of 5',\n",
       " '3.7 out of 5',\n",
       " '4.1 out of 5',\n",
       " '4.2 out of 5',\n",
       " '3.9 out of 5',\n",
       " '-',\n",
       " '3.6 out of 5']"
      ]
     },
     "execution_count": 191,
     "metadata": {},
     "output_type": "execute_result"
    }
   ],
   "source": [
    "rating"
   ]
  },
  {
   "cell_type": "code",
   "execution_count": 200,
   "id": "0bfeb8a9",
   "metadata": {},
   "outputs": [],
   "source": [
    "# get brand and its price:\n",
    "\n",
    "brand = []\n",
    "brands=driver.find_elements_by_class_name(\"p_89\")\n",
    "for i in brands:\n",
    "    brand.append(i.text)\n",
    "price = []\n",
    "prices=driver.find_elements_by_class_name(\"a-price-whole\")\n",
    "for i in prices:\n",
    "    price.append(i.text)"
   ]
  },
  {
   "cell_type": "code",
   "execution_count": 197,
   "id": "f06c7480",
   "metadata": {},
   "outputs": [
    {
     "data": {
      "text/plain": [
       "['38,990',\n",
       " '25,990',\n",
       " '41,990',\n",
       " '19,990',\n",
       " '29,000',\n",
       " '18,499',\n",
       " '69,990',\n",
       " '72,999',\n",
       " '64,100',\n",
       " '']"
      ]
     },
     "execution_count": 197,
     "metadata": {},
     "output_type": "execute_result"
    }
   ],
   "source": [
    "# get price:\n",
    "price=price[0:10]\n",
    "\n",
    "price"
   ]
  },
  {
   "cell_type": "code",
   "execution_count": 236,
   "id": "1ec612af",
   "metadata": {},
   "outputs": [],
   "source": [
    "brand = []\n",
    "brands=driver.find_elements_by_class_name(\"sponsored-products-truncator-truncated\")\n",
    "for i in brands:\n",
    "    brand.append(i.text)"
   ]
  },
  {
   "cell_type": "code",
   "execution_count": 237,
   "id": "2c9a1f66",
   "metadata": {},
   "outputs": [
    {
     "data": {
      "text/plain": [
       "[]"
      ]
     },
     "execution_count": 237,
     "metadata": {},
     "output_type": "execute_result"
    }
   ],
   "source": [
    "brand=brand[0:10]\n",
    "brand"
   ]
  },
  {
   "cell_type": "code",
   "execution_count": null,
   "id": "8fd156bf",
   "metadata": {},
   "outputs": [],
   "source": []
  },
  {
   "cell_type": "markdown",
   "id": "3fbea0ca",
   "metadata": {},
   "source": [
    "# For “Intel Core i9”"
   ]
  },
  {
   "cell_type": "code",
   "execution_count": 208,
   "id": "6d85f3f9",
   "metadata": {},
   "outputs": [],
   "source": [
    "#connecting to web driver\n",
    "driver=webdriver.Chrome('chromedriver.exe')\n",
    "#passing url:\n",
    "url=' https://www.amazon.in/'\n",
    "driver.get(url)\n",
    "# search laptop using id:\n",
    "laptop=driver.find_element_by_id('twotabsearchtextbox')\n",
    "laptop\n",
    "# search bar:\n",
    "laptop.send_keys('Laptop')"
   ]
  },
  {
   "cell_type": "code",
   "execution_count": 209,
   "id": "cb244526",
   "metadata": {},
   "outputs": [],
   "source": [
    "# search button using xpath:\n",
    "search_btn=driver.find_element_by_xpath(\"/html/body/div[1]/header/div/div[1]/div[2]/div/form/div[3]/div\")\n",
    "search_btn.click()"
   ]
  },
  {
   "cell_type": "code",
   "execution_count": 210,
   "id": "48196889",
   "metadata": {},
   "outputs": [],
   "source": [
    "#more button:\n",
    "more_btn=driver.find_element_by_xpath(\"/html/body/div[1]/div[2]/div[1]/div[2]/div/div[3]/span/div[1]/span/div/div/div[6]/div/div/div[1]/div/span[2]/a/span\")\n",
    "more_btn.click()"
   ]
  },
  {
   "cell_type": "code",
   "execution_count": 211,
   "id": "0b3b3ed5",
   "metadata": {},
   "outputs": [],
   "source": [
    "i9=driver.find_element_by_id('p_n_feature_thirteen_browse-bin/16757432031')\n",
    "i9.click()"
   ]
  },
  {
   "cell_type": "code",
   "execution_count": 212,
   "id": "013350e8",
   "metadata": {},
   "outputs": [],
   "source": [
    "# laptop and its rating:\n",
    "urls = []\n",
    "\n",
    "for i in driver.find_elements_by_xpath('//h2[@class=\"a-size-mini a-spacing-none a-color-base s-line-clamp-2\"]/a'):\n",
    "    urls.append(i.get_attribute(\"href\"))\n",
    "urls=urls[0:10]"
   ]
  },
  {
   "cell_type": "code",
   "execution_count": 213,
   "id": "4a831371",
   "metadata": {},
   "outputs": [],
   "source": [
    "from selenium.common.exceptions import NoSuchElementException\n",
    "\n",
    "#Get rating:\n",
    "rating=[]\n",
    "for i in urls:\n",
    "    \n",
    "    driver.get(i)\n",
    "\n",
    "    \n",
    "    try:\n",
    "        \n",
    "        r = driver.find_element_by_xpath(\"//span[@class='a-size-base a-nowrap']\")\n",
    "        rating.append(r.text)\n",
    "        \n",
    "    except NoSuchElementException:\n",
    "        \n",
    "        rating.append('-')"
   ]
  },
  {
   "cell_type": "code",
   "execution_count": 214,
   "id": "0c11add7",
   "metadata": {},
   "outputs": [
    {
     "data": {
      "text/plain": [
       "['4.1 out of 5',\n",
       " '4.1 out of 5',\n",
       " '-',\n",
       " '5 out of 5',\n",
       " '4.4 out of 5',\n",
       " '5 out of 5',\n",
       " '-',\n",
       " '-',\n",
       " '-',\n",
       " '-']"
      ]
     },
     "execution_count": 214,
     "metadata": {},
     "output_type": "execute_result"
    }
   ],
   "source": [
    "rating"
   ]
  },
  {
   "cell_type": "code",
   "execution_count": 216,
   "id": "f7b05fed",
   "metadata": {},
   "outputs": [],
   "source": [
    "# get brand and its price:\n",
    "brand = []\n",
    "brands=driver.find_elements_by_class_name(\"sponsored-products-truncator-truncated\")\n",
    "for i in brands:\n",
    "    brand.append(i.text)"
   ]
  },
  {
   "cell_type": "code",
   "execution_count": 218,
   "id": "eebc7755",
   "metadata": {},
   "outputs": [
    {
     "data": {
      "text/plain": [
       "['HP 15, 11th Gen Intel Core i5-8GB RAM/512GB SSD 15.6-inch(39.6 cm) Laptop,FHD, IPS,...',\n",
       " 'HP Pavilion 14, Ryzen 5- 8GB RAM/512GB SSD 14 inch(35.6 cm) Laptop, FHD IPS Anti-Gl...',\n",
       " 'HP Chromebook 14 Intel Celeron N4020-4GB SDRAM/64GB eMMC + 256GB Expandable…',\n",
       " 'Dell 14 (2021) i7-1195G7 2in1 Touch Screen Laptop, 16GB, 512GB SSD, Win 10 +…',\n",
       " 'HP 15 (2021) AMD Ryzen 3-3250 8 GB RAM, 1TB HDD + 256GB SSD, 15.6 inches FHD Screen...',\n",
       " 'HP 15, 11th Gen Intel Core i5-8GB RAM/512GB SSD 15.6-inch(39.6 cm) Laptop,FHD, IPS,...',\n",
       " 'HP 15 (2021) AMD Ryzen 3-3250 8 GB RAM, 1TB HDD + 256GB SSD, 15.6 inches FHD Screen...',\n",
       " 'HP Pavilion 14, 11th Gen Intel Core i5 8GB RAM/512GB SSD 14 inch(35.6 cm) Laptop, F...',\n",
       " 'HP Pavilion 14, Ryzen 5- 8GB RAM/512GB SSD 14 inch(35.6 cm) Laptop, FHD IPS Anti-Gl...',\n",
       " 'HP Chromebook 14 Intel Celeron N4020-4GB SDRAM/64GB eMMC + 256GB Expandable…']"
      ]
     },
     "execution_count": 218,
     "metadata": {},
     "output_type": "execute_result"
    }
   ],
   "source": [
    "brand=brand[0:10]\n",
    "brand"
   ]
  },
  {
   "cell_type": "code",
   "execution_count": 234,
   "id": "4e7e360c",
   "metadata": {},
   "outputs": [],
   "source": [
    "price = []\n",
    "prices=driver.find_elements_by_class_name(\"a-price-whole\")\n",
    "for i in prices:\n",
    "    price.append(i.text)"
   ]
  },
  {
   "cell_type": "code",
   "execution_count": 235,
   "id": "75d40207",
   "metadata": {},
   "outputs": [
    {
     "data": {
      "text/plain": [
       "['1,43,990',\n",
       " '1,44,990',\n",
       " '2,00,000',\n",
       " '1,39,990',\n",
       " '2,65,999',\n",
       " '1,89,000',\n",
       " '2,25,000',\n",
       " '2,45,000',\n",
       " '2,57,729']"
      ]
     },
     "execution_count": 235,
     "metadata": {},
     "output_type": "execute_result"
    }
   ],
   "source": [
    "# get price:\n",
    "price=price[0:10]\n",
    "\n",
    "price"
   ]
  },
  {
   "cell_type": "code",
   "execution_count": null,
   "id": "47e2a70d",
   "metadata": {},
   "outputs": [],
   "source": [
    "\n"
   ]
  },
  {
   "cell_type": "code",
   "execution_count": 238,
   "id": "2fbb444d",
   "metadata": {},
   "outputs": [
    {
     "data": {
      "text/html": [
       "<div>\n",
       "<style scoped>\n",
       "    .dataframe tbody tr th:only-of-type {\n",
       "        vertical-align: middle;\n",
       "    }\n",
       "\n",
       "    .dataframe tbody tr th {\n",
       "        vertical-align: top;\n",
       "    }\n",
       "\n",
       "    .dataframe thead th {\n",
       "        text-align: right;\n",
       "    }\n",
       "</style>\n",
       "<table border=\"1\" class=\"dataframe\">\n",
       "  <thead>\n",
       "    <tr style=\"text-align: right;\">\n",
       "      <th></th>\n",
       "      <th>0</th>\n",
       "      <th>1</th>\n",
       "      <th>2</th>\n",
       "      <th>3</th>\n",
       "      <th>4</th>\n",
       "      <th>5</th>\n",
       "      <th>6</th>\n",
       "      <th>7</th>\n",
       "      <th>8</th>\n",
       "      <th>9</th>\n",
       "    </tr>\n",
       "  </thead>\n",
       "  <tbody>\n",
       "    <tr>\n",
       "      <th>Brand</th>\n",
       "      <td>None</td>\n",
       "      <td>None</td>\n",
       "      <td>None</td>\n",
       "      <td>None</td>\n",
       "      <td>None</td>\n",
       "      <td>None</td>\n",
       "      <td>None</td>\n",
       "      <td>None</td>\n",
       "      <td>None</td>\n",
       "      <td>None</td>\n",
       "    </tr>\n",
       "    <tr>\n",
       "      <th>Price</th>\n",
       "      <td>1,43,990</td>\n",
       "      <td>1,44,990</td>\n",
       "      <td>2,00,000</td>\n",
       "      <td>1,39,990</td>\n",
       "      <td>2,65,999</td>\n",
       "      <td>1,89,000</td>\n",
       "      <td>2,25,000</td>\n",
       "      <td>2,45,000</td>\n",
       "      <td>2,57,729</td>\n",
       "      <td>None</td>\n",
       "    </tr>\n",
       "    <tr>\n",
       "      <th>rating</th>\n",
       "      <td>4.1 out of 5</td>\n",
       "      <td>4.1 out of 5</td>\n",
       "      <td>-</td>\n",
       "      <td>5 out of 5</td>\n",
       "      <td>4.4 out of 5</td>\n",
       "      <td>5 out of 5</td>\n",
       "      <td>-</td>\n",
       "      <td>-</td>\n",
       "      <td>-</td>\n",
       "      <td>-</td>\n",
       "    </tr>\n",
       "  </tbody>\n",
       "</table>\n",
       "</div>"
      ],
      "text/plain": [
       "                   0             1         2           3             4  \\\n",
       "Brand           None          None      None        None          None   \n",
       "Price       1,43,990      1,44,990  2,00,000    1,39,990      2,65,999   \n",
       "rating  4.1 out of 5  4.1 out of 5         -  5 out of 5  4.4 out of 5   \n",
       "\n",
       "                 5         6         7         8     9  \n",
       "Brand         None      None      None      None  None  \n",
       "Price     1,89,000  2,25,000  2,45,000  2,57,729  None  \n",
       "rating  5 out of 5         -         -         -     -  "
      ]
     },
     "execution_count": 238,
     "metadata": {},
     "output_type": "execute_result"
    }
   ],
   "source": [
    "# Data Frame of the drivers by its Brand, Price and rating:\n",
    "i7_laptop=pd.DataFrame.from_dict({'Brand':brand,\"Price\":price,\"rating\":rating},  orient='index')\n",
    "i7_laptop"
   ]
  },
  {
   "cell_type": "code",
   "execution_count": 239,
   "id": "dc49d5fd",
   "metadata": {},
   "outputs": [
    {
     "data": {
      "text/html": [
       "<div>\n",
       "<style scoped>\n",
       "    .dataframe tbody tr th:only-of-type {\n",
       "        vertical-align: middle;\n",
       "    }\n",
       "\n",
       "    .dataframe tbody tr th {\n",
       "        vertical-align: top;\n",
       "    }\n",
       "\n",
       "    .dataframe thead th {\n",
       "        text-align: right;\n",
       "    }\n",
       "</style>\n",
       "<table border=\"1\" class=\"dataframe\">\n",
       "  <thead>\n",
       "    <tr style=\"text-align: right;\">\n",
       "      <th></th>\n",
       "      <th>0</th>\n",
       "      <th>1</th>\n",
       "      <th>2</th>\n",
       "      <th>3</th>\n",
       "      <th>4</th>\n",
       "      <th>5</th>\n",
       "      <th>6</th>\n",
       "      <th>7</th>\n",
       "      <th>8</th>\n",
       "      <th>9</th>\n",
       "    </tr>\n",
       "  </thead>\n",
       "  <tbody>\n",
       "    <tr>\n",
       "      <th>Brand</th>\n",
       "      <td>None</td>\n",
       "      <td>None</td>\n",
       "      <td>None</td>\n",
       "      <td>None</td>\n",
       "      <td>None</td>\n",
       "      <td>None</td>\n",
       "      <td>None</td>\n",
       "      <td>None</td>\n",
       "      <td>None</td>\n",
       "      <td>None</td>\n",
       "    </tr>\n",
       "    <tr>\n",
       "      <th>Price</th>\n",
       "      <td>1,43,990</td>\n",
       "      <td>1,44,990</td>\n",
       "      <td>2,00,000</td>\n",
       "      <td>1,39,990</td>\n",
       "      <td>2,65,999</td>\n",
       "      <td>1,89,000</td>\n",
       "      <td>2,25,000</td>\n",
       "      <td>2,45,000</td>\n",
       "      <td>2,57,729</td>\n",
       "      <td>None</td>\n",
       "    </tr>\n",
       "    <tr>\n",
       "      <th>rating</th>\n",
       "      <td>4.1 out of 5</td>\n",
       "      <td>4.1 out of 5</td>\n",
       "      <td>-</td>\n",
       "      <td>5 out of 5</td>\n",
       "      <td>4.4 out of 5</td>\n",
       "      <td>5 out of 5</td>\n",
       "      <td>-</td>\n",
       "      <td>-</td>\n",
       "      <td>-</td>\n",
       "      <td>-</td>\n",
       "    </tr>\n",
       "  </tbody>\n",
       "</table>\n",
       "</div>"
      ],
      "text/plain": [
       "                   0             1         2           3             4  \\\n",
       "Brand           None          None      None        None          None   \n",
       "Price       1,43,990      1,44,990  2,00,000    1,39,990      2,65,999   \n",
       "rating  4.1 out of 5  4.1 out of 5         -  5 out of 5  4.4 out of 5   \n",
       "\n",
       "                 5         6         7         8     9  \n",
       "Brand         None      None      None      None  None  \n",
       "Price     1,89,000  2,25,000  2,45,000  2,57,729  None  \n",
       "rating  5 out of 5         -         -         -     -  "
      ]
     },
     "execution_count": 239,
     "metadata": {},
     "output_type": "execute_result"
    }
   ],
   "source": [
    "i9_laptop=pd.DataFrame.from_dict({'Brand':brand,\"Price\":price,\"rating\":rating},  orient='index')\n",
    "i9_laptop"
   ]
  },
  {
   "cell_type": "code",
   "execution_count": null,
   "id": "fc56bfff",
   "metadata": {},
   "outputs": [],
   "source": []
  },
  {
   "cell_type": "markdown",
   "id": "55e0d492",
   "metadata": {},
   "source": [
    "## Q9: Write a python program to scrape data for first 10 job results for Data Scientist Designation in Noida location. You have to scrape company name, No. of days ago when job was posted, Rating of the company."
   ]
  },
  {
   "cell_type": "code",
   "execution_count": 240,
   "id": "5b9701fc",
   "metadata": {},
   "outputs": [],
   "source": [
    "#connect web driver:\n",
    "driver=webdriver.Chrome('chromedriver.exe')"
   ]
  },
  {
   "cell_type": "code",
   "execution_count": 241,
   "id": "cb32c0c1",
   "metadata": {},
   "outputs": [],
   "source": [
    "#passing url:\n",
    "url='https://www.ambitionbox.com/'\n",
    "driver.get(url)"
   ]
  },
  {
   "cell_type": "code",
   "execution_count": 242,
   "id": "97be1604",
   "metadata": {},
   "outputs": [],
   "source": [
    "#for extracting data from different pages :\n",
    "# search job using xpath:\n",
    "job=driver.find_element_by_xpath('//a[@class=\"link jobs\"]')\n",
    "job\n",
    "\n",
    "job.click()"
   ]
  },
  {
   "cell_type": "code",
   "execution_count": 243,
   "id": "a496f331",
   "metadata": {},
   "outputs": [
    {
     "data": {
      "text/plain": [
       "<selenium.webdriver.remote.webelement.WebElement (session=\"06e6ed1d3c5a4cf1c60f3d8b6c5bc678\", element=\"c7b6e1d4-f581-4f4a-879b-aa6d83714f90\")>"
      ]
     },
     "execution_count": 243,
     "metadata": {},
     "output_type": "execute_result"
    }
   ],
   "source": [
    "# search job using xpath:\n",
    "search_job=driver.find_element_by_xpath('/html/body/div/div/div/div[2]/div[1]/div/div/div/div/span/input')\n",
    "search_job"
   ]
  },
  {
   "cell_type": "code",
   "execution_count": 244,
   "id": "06c362f7",
   "metadata": {},
   "outputs": [],
   "source": [
    "# search job for Data scientist:\n",
    "search_job.send_keys(\"Data scientist\")"
   ]
  },
  {
   "cell_type": "code",
   "execution_count": 245,
   "id": "ade00eb4",
   "metadata": {},
   "outputs": [],
   "source": [
    "# search button by using xpath:\n",
    "search_btn=driver.find_element_by_xpath(\"/html/body/div/div/div/div[2]/div[1]/div/div/div/button\")\n",
    "search_btn.click()"
   ]
  },
  {
   "cell_type": "code",
   "execution_count": 246,
   "id": "e443ffef",
   "metadata": {},
   "outputs": [],
   "source": [
    "# search job by xpath:\n",
    "loc=driver.find_element_by_xpath('/html/body/div/div/div/div[2]/div[2]/div[1]/div/div/div/div[2]/div[1]')\n",
    "loc.click()"
   ]
  },
  {
   "cell_type": "code",
   "execution_count": 247,
   "id": "168c1c49",
   "metadata": {},
   "outputs": [],
   "source": [
    "# search job for noida location by absolute xpath:\n",
    "location_check=driver.find_element_by_id(\"location_Noida\")\n",
    "location_check.click()"
   ]
  },
  {
   "cell_type": "code",
   "execution_count": 248,
   "id": "87ab6f96",
   "metadata": {},
   "outputs": [],
   "source": [
    "#creating a dictionary for storing the information after scraping:\n",
    "#for each job we will scrape the company name, No. of days ago when job was posted, Rating of the company.\n",
    "\n",
    "# for company name:\n",
    "name = driver.find_elements_by_xpath(\"//a[@class='title noclick']\")\n",
    "comp_name = []\n",
    "for i in name:\n",
    "    comp_name.append(i.text)\n",
    "\n",
    "    \n",
    "# for when job posted:\n",
    "day = driver.find_elements_by_xpath(\"//span[@class='body-small-l']\")\n",
    "no_of_days_ago = []\n",
    "\n",
    "for i in day:\n",
    "    no_of_days_ago.append(i.text)\n",
    "    \n",
    "    \n",
    "# for rating\n",
    "rate = driver.find_elements_by_xpath(\"//span[@class='body-small']\")\n",
    "rating=[]\n",
    "\n",
    "for i in rate:\n",
    "    rating.append(i.text)\n",
    "del no_of_days_ago[1:20:2] "
   ]
  },
  {
   "cell_type": "code",
   "execution_count": 249,
   "id": "32c051b3",
   "metadata": {},
   "outputs": [
    {
     "name": "stdout",
     "output_type": "stream",
     "text": [
      "10 10 10\n"
     ]
    }
   ],
   "source": [
    "#get length:\n",
    "print(len(comp_name),len(no_of_days_ago),len(rating))"
   ]
  },
  {
   "cell_type": "code",
   "execution_count": 250,
   "id": "ec2aeb48",
   "metadata": {},
   "outputs": [
    {
     "data": {
      "text/html": [
       "<div>\n",
       "<style scoped>\n",
       "    .dataframe tbody tr th:only-of-type {\n",
       "        vertical-align: middle;\n",
       "    }\n",
       "\n",
       "    .dataframe tbody tr th {\n",
       "        vertical-align: top;\n",
       "    }\n",
       "\n",
       "    .dataframe thead th {\n",
       "        text-align: right;\n",
       "    }\n",
       "</style>\n",
       "<table border=\"1\" class=\"dataframe\">\n",
       "  <thead>\n",
       "    <tr style=\"text-align: right;\">\n",
       "      <th></th>\n",
       "      <th>Company name</th>\n",
       "      <th>No of days ago job was posted</th>\n",
       "      <th>Rating</th>\n",
       "    </tr>\n",
       "  </thead>\n",
       "  <tbody>\n",
       "    <tr>\n",
       "      <th>0</th>\n",
       "      <td>HCL - Data Scientist - NLP/Python (2-6 yrs)</td>\n",
       "      <td>3d ago</td>\n",
       "      <td>3.8</td>\n",
       "    </tr>\n",
       "    <tr>\n",
       "      <th>1</th>\n",
       "      <td>Data Scientist</td>\n",
       "      <td>3d ago</td>\n",
       "      <td>3.9</td>\n",
       "    </tr>\n",
       "    <tr>\n",
       "      <th>2</th>\n",
       "      <td>Manager Data Scientist</td>\n",
       "      <td>5d ago</td>\n",
       "      <td>4.0</td>\n",
       "    </tr>\n",
       "    <tr>\n",
       "      <th>3</th>\n",
       "      <td>Vice President - Data Science</td>\n",
       "      <td>11d ago</td>\n",
       "      <td>3.7</td>\n",
       "    </tr>\n",
       "    <tr>\n",
       "      <th>4</th>\n",
       "      <td>CogniTensor - Data Scientist (2-5 yrs)</td>\n",
       "      <td>12d ago</td>\n",
       "      <td>3.8</td>\n",
       "    </tr>\n",
       "    <tr>\n",
       "      <th>5</th>\n",
       "      <td>CogniTensor - Data Scientist (2-5 yrs)</td>\n",
       "      <td>13d ago</td>\n",
       "      <td>3.8</td>\n",
       "    </tr>\n",
       "    <tr>\n",
       "      <th>6</th>\n",
       "      <td>Data Scientist - Data Science/Model Developmen...</td>\n",
       "      <td>24d ago</td>\n",
       "      <td>4.1</td>\n",
       "    </tr>\n",
       "    <tr>\n",
       "      <th>7</th>\n",
       "      <td>Manager - Data Scientist - Retail/BFSI (8-15 yrs)</td>\n",
       "      <td>24d ago</td>\n",
       "      <td>4.1</td>\n",
       "    </tr>\n",
       "    <tr>\n",
       "      <th>8</th>\n",
       "      <td>Data Scientist - Consulting Firm (8-15 yrs)</td>\n",
       "      <td>24d ago</td>\n",
       "      <td>4.1</td>\n",
       "    </tr>\n",
       "    <tr>\n",
       "      <th>9</th>\n",
       "      <td>Cargo Flash - Operation Research Analyst - Rev...</td>\n",
       "      <td>2d ago</td>\n",
       "      <td>3.8</td>\n",
       "    </tr>\n",
       "  </tbody>\n",
       "</table>\n",
       "</div>"
      ],
      "text/plain": [
       "                                        Company name  \\\n",
       "0        HCL - Data Scientist - NLP/Python (2-6 yrs)   \n",
       "1                                     Data Scientist   \n",
       "2                             Manager Data Scientist   \n",
       "3                      Vice President - Data Science   \n",
       "4             CogniTensor - Data Scientist (2-5 yrs)   \n",
       "5             CogniTensor - Data Scientist (2-5 yrs)   \n",
       "6  Data Scientist - Data Science/Model Developmen...   \n",
       "7  Manager - Data Scientist - Retail/BFSI (8-15 yrs)   \n",
       "8        Data Scientist - Consulting Firm (8-15 yrs)   \n",
       "9  Cargo Flash - Operation Research Analyst - Rev...   \n",
       "\n",
       "  No of days ago job was posted Rating  \n",
       "0                        3d ago    3.8  \n",
       "1                        3d ago    3.9  \n",
       "2                        5d ago    4.0  \n",
       "3                       11d ago    3.7  \n",
       "4                       12d ago    3.8  \n",
       "5                       13d ago    3.8  \n",
       "6                       24d ago    4.1  \n",
       "7                       24d ago    4.1  \n",
       "8                       24d ago    4.1  \n",
       "9                        2d ago    3.8  "
      ]
     },
     "execution_count": 250,
     "metadata": {},
     "output_type": "execute_result"
    }
   ],
   "source": [
    "# creat Data Frame of the company_name, No of days ago job was posted and rating: \n",
    "# Data analyst as DA\n",
    "DA_ambitionbox=pd.DataFrame({'Company name':comp_name,\"No of days ago job was posted\":no_of_days_ago,\"Rating\":rating})\n",
    "DA_ambitionbox.head(10)"
   ]
  },
  {
   "cell_type": "code",
   "execution_count": null,
   "id": "b93bd599",
   "metadata": {},
   "outputs": [],
   "source": []
  },
  {
   "cell_type": "markdown",
   "id": "3519a987",
   "metadata": {},
   "source": [
    "## Q10: Write a python program to scrape the salary data for Data Scientist designation. You have to scrape Company name, Number of salaries, Average salary, Minsalary, Max Salary."
   ]
  },
  {
   "cell_type": "code",
   "execution_count": 251,
   "id": "e8c3e258",
   "metadata": {},
   "outputs": [],
   "source": [
    "#connect web driver:\n",
    "driver=webdriver.Chrome('chromedriver.exe')"
   ]
  },
  {
   "cell_type": "code",
   "execution_count": 252,
   "id": "86cdcd5c",
   "metadata": {},
   "outputs": [],
   "source": [
    "# passing url: \n",
    "url='https://www.ambitionbox.com/'\n",
    "driver.get(url)"
   ]
  },
  {
   "cell_type": "code",
   "execution_count": 253,
   "id": "f2d87ca1",
   "metadata": {},
   "outputs": [],
   "source": [
    "#for extracting data from different pages :\n",
    "# get salary :\n",
    "sal = driver.find_element_by_xpath('/html/body/div[1]/nav/nav/a[4]')\n",
    "sal.click()"
   ]
  },
  {
   "cell_type": "code",
   "execution_count": 254,
   "id": "f3fbd46b",
   "metadata": {},
   "outputs": [],
   "source": [
    "#search for data scientist:\n",
    "dsci=driver.find_element_by_xpath('/html/body/div/div/div/main/section[1]/div[2]/div[1]/span/input')\n",
    "dsci.send_keys('Data Scientist')\n",
    "dsci.click()"
   ]
  },
  {
   "cell_type": "code",
   "execution_count": 255,
   "id": "4d815630",
   "metadata": {},
   "outputs": [],
   "source": [
    "# get data scientist:\n",
    "ds=driver.find_element_by_xpath(\"//div[@class='suggestion']\")\n",
    "ds.click()"
   ]
  },
  {
   "cell_type": "code",
   "execution_count": 257,
   "id": "b2d20ff5",
   "metadata": {},
   "outputs": [],
   "source": [
    "# find Company name, Number of salaries, Average salary, Minsalary, Max Salary.\n",
    "# for company name\n",
    "comp_name = []\n",
    "name=driver.find_elements_by_class_name('name')\n",
    "for i in name:\n",
    "    comp_name.append(i.text.split('\\n')[0])\n",
    "noc=comp_name[0:10]\n",
    "    \n",
    "# for salary\n",
    "sal = []\n",
    "no_sal=driver.find_elements_by_class_name('name')\n",
    "for i in no_sal:\n",
    "    sal.append(i.text.split('\\n')[-1])\n",
    "sal\n",
    "nos=sal[0:10]"
   ]
  },
  {
   "cell_type": "code",
   "execution_count": 258,
   "id": "b9d639a7",
   "metadata": {},
   "outputs": [
    {
     "data": {
      "text/plain": [
       "['₹ 35.0L',\n",
       " '₹ 25.0L',\n",
       " '₹ 20.0L',\n",
       " '₹ 22.0L',\n",
       " '₹ 21.3L',\n",
       " '₹ 20.5L',\n",
       " '₹ 18.5L',\n",
       " '₹ 21.0L',\n",
       " '₹ 15.0L',\n",
       " '₹ 21.5L']"
      ]
     },
     "execution_count": 258,
     "metadata": {},
     "output_type": "execute_result"
    }
   ],
   "source": [
    "# get min salary:\n",
    "minimum_salary = []\n",
    "minm=driver.find_elements_by_class_name('salary-values')\n",
    "for i in minm:\n",
    "    minimum_salary.append(i.text.split('\\n')[1])\n",
    "minimum_salary"
   ]
  },
  {
   "cell_type": "code",
   "execution_count": 259,
   "id": "5fede2c4",
   "metadata": {},
   "outputs": [
    {
     "data": {
      "text/plain": [
       "['₹ 35.0L',\n",
       " '₹ 25.0L',\n",
       " '₹ 20.0L',\n",
       " '₹ 22.0L',\n",
       " '₹ 21.3L',\n",
       " '₹ 20.5L',\n",
       " '₹ 18.5L',\n",
       " '₹ 21.0L',\n",
       " '₹ 15.0L',\n",
       " '₹ 21.5L']"
      ]
     },
     "execution_count": 259,
     "metadata": {},
     "output_type": "execute_result"
    }
   ],
   "source": [
    "# get max salary\n",
    "maximum_salary = []\n",
    "maxm=driver.find_elements_by_class_name('salary-values')\n",
    "for i in maxm:\n",
    "    maximum_salary.append(i.text.split('\\n')[-1])\n",
    "maximum_salary"
   ]
  },
  {
   "cell_type": "code",
   "execution_count": 260,
   "id": "f9f08ffb",
   "metadata": {},
   "outputs": [
    {
     "data": {
      "text/plain": [
       "['₹ 28.7L',\n",
       " '₹ 19.5L',\n",
       " '₹ 15.8L',\n",
       " '₹ 15.0L',\n",
       " '₹ 15.0L',\n",
       " '₹ 13.5L',\n",
       " '₹ 13.5L',\n",
       " '₹ 12.7L',\n",
       " '₹ 12.4L',\n",
       " '₹ 11.9L']"
      ]
     },
     "execution_count": 260,
     "metadata": {},
     "output_type": "execute_result"
    }
   ],
   "source": [
    "# get average salary\n",
    "average_salary = []\n",
    "avr=driver.find_elements_by_xpath('//p[@class=\"averageCtc\"]')\n",
    "for i in avr:\n",
    "    average_salary.append(i.text)\n",
    "average_salary"
   ]
  },
  {
   "cell_type": "code",
   "execution_count": 261,
   "id": "01d0f28d",
   "metadata": {},
   "outputs": [
    {
     "data": {
      "text/html": [
       "<div>\n",
       "<style scoped>\n",
       "    .dataframe tbody tr th:only-of-type {\n",
       "        vertical-align: middle;\n",
       "    }\n",
       "\n",
       "    .dataframe tbody tr th {\n",
       "        vertical-align: top;\n",
       "    }\n",
       "\n",
       "    .dataframe thead th {\n",
       "        text-align: right;\n",
       "    }\n",
       "</style>\n",
       "<table border=\"1\" class=\"dataframe\">\n",
       "  <thead>\n",
       "    <tr style=\"text-align: right;\">\n",
       "      <th></th>\n",
       "      <th>Company name</th>\n",
       "      <th>No of salary</th>\n",
       "      <th>Minimum</th>\n",
       "      <th>Maximum</th>\n",
       "      <th>Average</th>\n",
       "    </tr>\n",
       "  </thead>\n",
       "  <tbody>\n",
       "    <tr>\n",
       "      <th>0</th>\n",
       "      <td>Walmart</td>\n",
       "      <td>based on 10 salaries</td>\n",
       "      <td>₹ 35.0L</td>\n",
       "      <td>₹ 35.0L</td>\n",
       "      <td>₹ 28.7L</td>\n",
       "    </tr>\n",
       "    <tr>\n",
       "      <th>1</th>\n",
       "      <td>Ab Inbev</td>\n",
       "      <td>based on 22 salaries</td>\n",
       "      <td>₹ 25.0L</td>\n",
       "      <td>₹ 25.0L</td>\n",
       "      <td>₹ 19.5L</td>\n",
       "    </tr>\n",
       "    <tr>\n",
       "      <th>2</th>\n",
       "      <td>ZS</td>\n",
       "      <td>based on 14 salaries</td>\n",
       "      <td>₹ 20.0L</td>\n",
       "      <td>₹ 20.0L</td>\n",
       "      <td>₹ 15.8L</td>\n",
       "    </tr>\n",
       "    <tr>\n",
       "      <th>3</th>\n",
       "      <td>Fractal Analytics</td>\n",
       "      <td>based on 72 salaries</td>\n",
       "      <td>₹ 22.0L</td>\n",
       "      <td>₹ 22.0L</td>\n",
       "      <td>₹ 15.0L</td>\n",
       "    </tr>\n",
       "    <tr>\n",
       "      <th>4</th>\n",
       "      <td>Optum</td>\n",
       "      <td>based on 23 salaries</td>\n",
       "      <td>₹ 21.3L</td>\n",
       "      <td>₹ 21.3L</td>\n",
       "      <td>₹ 15.0L</td>\n",
       "    </tr>\n",
       "    <tr>\n",
       "      <th>5</th>\n",
       "      <td>UnitedHealth</td>\n",
       "      <td>based on 49 salaries</td>\n",
       "      <td>₹ 20.5L</td>\n",
       "      <td>₹ 20.5L</td>\n",
       "      <td>₹ 13.5L</td>\n",
       "    </tr>\n",
       "    <tr>\n",
       "      <th>6</th>\n",
       "      <td>Tiger Analytics</td>\n",
       "      <td>based on 27 salaries</td>\n",
       "      <td>₹ 18.5L</td>\n",
       "      <td>₹ 18.5L</td>\n",
       "      <td>₹ 13.5L</td>\n",
       "    </tr>\n",
       "    <tr>\n",
       "      <th>7</th>\n",
       "      <td>Verizon</td>\n",
       "      <td>based on 14 salaries</td>\n",
       "      <td>₹ 21.0L</td>\n",
       "      <td>₹ 21.0L</td>\n",
       "      <td>₹ 12.7L</td>\n",
       "    </tr>\n",
       "    <tr>\n",
       "      <th>8</th>\n",
       "      <td>Ganit Business Solutions</td>\n",
       "      <td>based on 13 salaries</td>\n",
       "      <td>₹ 15.0L</td>\n",
       "      <td>₹ 15.0L</td>\n",
       "      <td>₹ 12.4L</td>\n",
       "    </tr>\n",
       "    <tr>\n",
       "      <th>9</th>\n",
       "      <td>Ericsson</td>\n",
       "      <td>based on 42 salaries</td>\n",
       "      <td>₹ 21.5L</td>\n",
       "      <td>₹ 21.5L</td>\n",
       "      <td>₹ 11.9L</td>\n",
       "    </tr>\n",
       "  </tbody>\n",
       "</table>\n",
       "</div>"
      ],
      "text/plain": [
       "               Company name          No of salary  Minimum  Maximum  Average\n",
       "0                   Walmart  based on 10 salaries  ₹ 35.0L  ₹ 35.0L  ₹ 28.7L\n",
       "1                  Ab Inbev  based on 22 salaries  ₹ 25.0L  ₹ 25.0L  ₹ 19.5L\n",
       "2                        ZS  based on 14 salaries  ₹ 20.0L  ₹ 20.0L  ₹ 15.8L\n",
       "3         Fractal Analytics  based on 72 salaries  ₹ 22.0L  ₹ 22.0L  ₹ 15.0L\n",
       "4                     Optum  based on 23 salaries  ₹ 21.3L  ₹ 21.3L  ₹ 15.0L\n",
       "5              UnitedHealth  based on 49 salaries  ₹ 20.5L  ₹ 20.5L  ₹ 13.5L\n",
       "6           Tiger Analytics  based on 27 salaries  ₹ 18.5L  ₹ 18.5L  ₹ 13.5L\n",
       "7                   Verizon  based on 14 salaries  ₹ 21.0L  ₹ 21.0L  ₹ 12.7L\n",
       "8  Ganit Business Solutions  based on 13 salaries  ₹ 15.0L  ₹ 15.0L  ₹ 12.4L\n",
       "9                  Ericsson  based on 42 salaries  ₹ 21.5L  ₹ 21.5L  ₹ 11.9L"
      ]
     },
     "execution_count": 261,
     "metadata": {},
     "output_type": "execute_result"
    }
   ],
   "source": [
    "# creat Data Frame of the company_name, No of salary, Minimum salary, Maximum salary, and Average salary: \n",
    "# Data analyst as DS\n",
    "DS_salary=pd.DataFrame({'Company name':noc,\"No of salary\":nos,\"Minimum\":minimum_salary,\"Maximum\":maximum_salary,\"Average\":average_salary})\n",
    "DS_salary.head(10)"
   ]
  },
  {
   "cell_type": "code",
   "execution_count": null,
   "id": "754a8004",
   "metadata": {},
   "outputs": [],
   "source": []
  }
 ],
 "metadata": {
  "kernelspec": {
   "display_name": "Python 3",
   "language": "python",
   "name": "python3"
  },
  "language_info": {
   "codemirror_mode": {
    "name": "ipython",
    "version": 3
   },
   "file_extension": ".py",
   "mimetype": "text/x-python",
   "name": "python",
   "nbconvert_exporter": "python",
   "pygments_lexer": "ipython3",
   "version": "3.8.8"
  }
 },
 "nbformat": 4,
 "nbformat_minor": 5
}
